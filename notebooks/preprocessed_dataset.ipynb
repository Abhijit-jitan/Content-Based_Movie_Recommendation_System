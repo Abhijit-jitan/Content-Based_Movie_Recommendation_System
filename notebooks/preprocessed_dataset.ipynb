{
 "cells": [
  {
   "cell_type": "markdown",
   "metadata": {},
   "source": [
    "# Loading Libraries"
   ]
  },
  {
   "cell_type": "code",
   "execution_count": 258,
   "metadata": {
    "execution": {
     "iopub.execute_input": "2022-01-18T14:40:35.358075Z",
     "iopub.status.busy": "2022-01-18T14:40:35.357522Z",
     "iopub.status.idle": "2022-01-18T14:40:36.657195Z",
     "shell.execute_reply": "2022-01-18T14:40:36.656460Z",
     "shell.execute_reply.started": "2022-01-18T14:40:35.357977Z"
    }
   },
   "outputs": [],
   "source": [
    "import pandas as pd\n",
    "import numpy as np\n",
    "from nltk.corpus import stopwords\n",
    "from nltk.stem.porter import PorterStemmer\n",
    "from sklearn.feature_extraction.text import CountVectorizer\n",
    "import datetime"
   ]
  },
  {
   "cell_type": "code",
   "execution_count": 259,
   "metadata": {
    "execution": {
     "iopub.execute_input": "2022-01-18T14:40:36.659203Z",
     "iopub.status.busy": "2022-01-18T14:40:36.658934Z",
     "iopub.status.idle": "2022-01-18T14:40:37.634046Z",
     "shell.execute_reply": "2022-01-18T14:40:37.633309Z",
     "shell.execute_reply.started": "2022-01-18T14:40:36.659164Z"
    }
   },
   "outputs": [],
   "source": [
    "#movies_data=pd.read_csv(r\"/kaggle/input/tmdb-movie-metadata/tmdb_5000_movies.csv\")\n",
    "#credits_data=pd.read_csv(r\"/kaggle/input/tmdb-movie-metadata/tmdb_5000_credits.csv\")\n",
    "movies_data=pd.read_csv(r\"D:\\Projects\\Content-Based_Movie_Recommendation_System-main\\Backend\\Data\\tmdb_5000_movies.csv\")\n",
    "credits_data=pd.read_csv(r\"D:\\Projects\\Content-Based_Movie_Recommendation_System-main\\Backend\\Data\\tmdb_5000_credits.csv\")\n"
   ]
  },
  {
   "cell_type": "code",
   "execution_count": 260,
   "metadata": {
    "execution": {
     "iopub.execute_input": "2022-01-18T14:40:37.635536Z",
     "iopub.status.busy": "2022-01-18T14:40:37.635274Z",
     "iopub.status.idle": "2022-01-18T14:40:37.651424Z",
     "shell.execute_reply": "2022-01-18T14:40:37.649022Z",
     "shell.execute_reply.started": "2022-01-18T14:40:37.635504Z"
    }
   },
   "outputs": [
    {
     "name": "stdout",
     "output_type": "stream",
     "text": [
      "budget                     0\n",
      "genres                     0\n",
      "homepage                3091\n",
      "id                         0\n",
      "keywords                   0\n",
      "original_language          0\n",
      "original_title             0\n",
      "overview                   3\n",
      "popularity                 0\n",
      "production_companies       0\n",
      "production_countries       0\n",
      "release_date               1\n",
      "revenue                    0\n",
      "runtime                    2\n",
      "spoken_languages           0\n",
      "status                     0\n",
      "tagline                  844\n",
      "title                      0\n",
      "vote_average               0\n",
      "vote_count                 0\n",
      "dtype: int64\n"
     ]
    }
   ],
   "source": [
    "movies_data.head()\n",
    "movies_data.columns \n",
    "# 'budget','genres','homepage','id','keywords','original_language','original_title','overview','popularity','production_companies','production_countries','release_date','revenue','runtime','spoken_languages','status','tagline','title','vote_average','vote_count'\n",
    "movies_data.shape                  # 4803,20\n",
    "print(movies_data.isna().sum())\n"
   ]
  },
  {
   "cell_type": "code",
   "execution_count": 261,
   "metadata": {
    "execution": {
     "iopub.execute_input": "2022-01-18T14:40:37.655340Z",
     "iopub.status.busy": "2022-01-18T14:40:37.653361Z",
     "iopub.status.idle": "2022-01-18T14:40:37.664856Z",
     "shell.execute_reply": "2022-01-18T14:40:37.663988Z",
     "shell.execute_reply.started": "2022-01-18T14:40:37.655308Z"
    }
   },
   "outputs": [
    {
     "name": "stdout",
     "output_type": "stream",
     "text": [
      "movie_id    0\n",
      "title       0\n",
      "cast        0\n",
      "crew        0\n",
      "dtype: int64\n"
     ]
    }
   ],
   "source": [
    "credits_data.head()\n",
    "credits_data.columns # 'movie_id', 'title', 'cast', 'crew'\n",
    "credits_data.shape  # 4803,4\n",
    "print(credits_data.isna().sum())"
   ]
  },
  {
   "cell_type": "markdown",
   "metadata": {},
   "source": [
    "# Merging 2 data-sets: "
   ]
  },
  {
   "cell_type": "code",
   "execution_count": 262,
   "metadata": {
    "execution": {
     "iopub.execute_input": "2022-01-18T14:40:38.337459Z",
     "iopub.status.busy": "2022-01-18T14:40:38.337202Z",
     "iopub.status.idle": "2022-01-18T14:40:38.359688Z",
     "shell.execute_reply": "2022-01-18T14:40:38.358987Z",
     "shell.execute_reply.started": "2022-01-18T14:40:38.337429Z"
    }
   },
   "outputs": [
    {
     "data": {
      "text/plain": [
       "(4809, 23)"
      ]
     },
     "execution_count": 262,
     "metadata": {},
     "output_type": "execute_result"
    }
   ],
   "source": [
    "movies=movies_data\n",
    "movies=movies.merge(credits_data,on=\"title\")    # As \"title\" column present on both data-set, so mergeing on\"title\"\n",
    "movies.shape   # (4809, 23)"
   ]
  },
  {
   "cell_type": "markdown",
   "metadata": {},
   "source": [
    "## Data-set insights"
   ]
  },
  {
   "cell_type": "code",
   "execution_count": 263,
   "metadata": {
    "execution": {
     "iopub.execute_input": "2022-01-18T14:40:39.157300Z",
     "iopub.status.busy": "2022-01-18T14:40:39.157057Z",
     "iopub.status.idle": "2022-01-18T14:40:39.263319Z",
     "shell.execute_reply": "2022-01-18T14:40:39.262629Z",
     "shell.execute_reply.started": "2022-01-18T14:40:39.157274Z"
    }
   },
   "outputs": [
    {
     "data": {
      "text/plain": [
       "0"
      ]
     },
     "execution_count": 263,
     "metadata": {},
     "output_type": "execute_result"
    }
   ],
   "source": [
    "movies.head()\n",
    "movies.shape   # 4809,8\n",
    "\n",
    "# handling Null values\n",
    "movies.isna().sum()\n",
    "#homepage: 3096 ; overview: 3 ; release_date: 1 ; runtime: 2 ; tagline: 844\n",
    "\n",
    "# Duplicate values\n",
    "movies.duplicated().sum()"
   ]
  },
  {
   "cell_type": "code",
   "execution_count": 264,
   "metadata": {},
   "outputs": [
    {
     "data": {
      "text/plain": [
       "Index(['budget', 'genres', 'homepage', 'id', 'keywords', 'original_language',\n",
       "       'original_title', 'overview', 'popularity', 'production_companies',\n",
       "       'production_countries', 'release_date', 'revenue', 'runtime',\n",
       "       'spoken_languages', 'status', 'tagline', 'title', 'vote_average',\n",
       "       'vote_count', 'movie_id', 'cast', 'crew'],\n",
       "      dtype='object')"
      ]
     },
     "execution_count": 264,
     "metadata": {},
     "output_type": "execute_result"
    }
   ],
   "source": [
    "movies.columns"
   ]
  },
  {
   "cell_type": "code",
   "execution_count": 265,
   "metadata": {},
   "outputs": [],
   "source": [
    "def get_unique_value(df):\n",
    "    \"\"\" Takes Column & returns set(unique items present) \"\"\"\n",
    "    to_list=df.tolist()\n",
    "    unique_items=set()\n",
    "\n",
    "    for each_list in to_list:\n",
    "        for item in each_list:\n",
    "            unique_items.add(item)\n",
    "    return unique_items \n",
    "\n",
    "# genres_unique_list=get_unique_value(movies[\"genres\"])\n",
    "# genres_unique_list\n",
    "\n",
    "\n",
    "def list_to_str(df):\n",
    "    return \",\".join(df)"
   ]
  },
  {
   "cell_type": "markdown",
   "metadata": {},
   "source": [
    "## Preprocessing Data(Column-wise)"
   ]
  },
  {
   "cell_type": "code",
   "execution_count": 266,
   "metadata": {
    "execution": {
     "iopub.execute_input": "2022-01-18T14:40:40.057556Z",
     "iopub.status.busy": "2022-01-18T14:40:40.057099Z",
     "iopub.status.idle": "2022-01-18T14:40:40.065372Z",
     "shell.execute_reply": "2022-01-18T14:40:40.064540Z",
     "shell.execute_reply.started": "2022-01-18T14:40:40.057519Z"
    }
   },
   "outputs": [
    {
     "data": {
      "text/plain": [
       "19995"
      ]
     },
     "execution_count": 266,
     "metadata": {},
     "output_type": "execute_result"
    }
   ],
   "source": [
    "#'movie_id' column\n",
    "movies['movie_id'].head()\n",
    "movies['movie_id'][0]  \n",
    "\n",
    "# we no need to preprocess this column"
   ]
  },
  {
   "cell_type": "code",
   "execution_count": 267,
   "metadata": {
    "execution": {
     "iopub.execute_input": "2022-01-18T14:40:40.814297Z",
     "iopub.status.busy": "2022-01-18T14:40:40.814049Z",
     "iopub.status.idle": "2022-01-18T14:40:40.821357Z",
     "shell.execute_reply": "2022-01-18T14:40:40.820589Z",
     "shell.execute_reply.started": "2022-01-18T14:40:40.814269Z"
    }
   },
   "outputs": [
    {
     "data": {
      "text/plain": [
       "'Avatar'"
      ]
     },
     "execution_count": 267,
     "metadata": {},
     "output_type": "execute_result"
    }
   ],
   "source": [
    "#'title' column\n",
    "movies['title'].head()\n",
    "movies['title'][0]  \n",
    "\n",
    "# we no need to preprocess this column"
   ]
  },
  {
   "cell_type": "markdown",
   "metadata": {},
   "source": [
    "### 'genres' column"
   ]
  },
  {
   "cell_type": "code",
   "execution_count": 268,
   "metadata": {
    "execution": {
     "iopub.execute_input": "2022-01-18T14:40:41.638987Z",
     "iopub.status.busy": "2022-01-18T14:40:41.638214Z",
     "iopub.status.idle": "2022-01-18T14:40:41.759063Z",
     "shell.execute_reply": "2022-01-18T14:40:41.758372Z",
     "shell.execute_reply.started": "2022-01-18T14:40:41.638946Z"
    }
   },
   "outputs": [
    {
     "data": {
      "text/plain": [
       "'[{\"id\": 28, \"name\": \"Action\"}, {\"id\": 12, \"name\": \"Adventure\"}, {\"id\": 14, \"name\": \"Fantasy\"}, {\"id\": 878, \"name\": \"Science Fiction\"}]'"
      ]
     },
     "execution_count": 268,
     "metadata": {},
     "output_type": "execute_result"
    }
   ],
   "source": [
    "movies['genres'].head()\n",
    "\n",
    "movies['genres'].isna().sum()   # 0\n",
    "movies['genres'][0]"
   ]
  },
  {
   "cell_type": "code",
   "execution_count": 269,
   "metadata": {},
   "outputs": [
    {
     "data": {
      "text/plain": [
       "0       action,adventure,fantasy,science-fiction\n",
       "1                       adventure,fantasy,action\n",
       "2                         action,adventure,crime\n",
       "3                    action,crime,drama,thriller\n",
       "4               action,adventure,science-fiction\n",
       "                          ...                   \n",
       "4804                       action,crime,thriller\n",
       "4805                              comedy,romance\n",
       "4806               comedy,drama,romance,tv-movie\n",
       "4807                                            \n",
       "4808                                 documentary\n",
       "Name: genres, Length: 4809, dtype: object"
      ]
     },
     "execution_count": 269,
     "metadata": {},
     "output_type": "execute_result"
    }
   ],
   "source": [
    "## text-preprocessing\n",
    "\n",
    "# to make all words lower-case\n",
    "movies[\"genres\"]=movies[\"genres\"].str.lower()\n",
    "\n",
    "# Here we only need \"names\" from \"genres\"\n",
    "# we also need to remove \" \" As 'Science','Fiction' & 'Science Fiction' can be represent as different \n",
    "def genre_extractor(df):\n",
    "    genres=[i[\"name\"].replace(\" \",\"-\") for i in eval(df)]    # extract only \"name\"s from \"genre-column\"\n",
    "    return genres\n",
    "\n",
    "movies[\"genres\"]=movies[\"genres\"].apply(genre_extractor)         # To list\n",
    "movies[\"genres\"]=movies[\"genres\"].apply(list_to_str)            # To String\n",
    "movies[\"genres\"]"
   ]
  },
  {
   "cell_type": "markdown",
   "metadata": {},
   "source": [
    "### 'keywords' column"
   ]
  },
  {
   "cell_type": "code",
   "execution_count": 270,
   "metadata": {
    "execution": {
     "iopub.execute_input": "2022-01-18T14:40:46.396408Z",
     "iopub.status.busy": "2022-01-18T14:40:46.396161Z",
     "iopub.status.idle": "2022-01-18T14:40:46.669132Z",
     "shell.execute_reply": "2022-01-18T14:40:46.668478Z",
     "shell.execute_reply.started": "2022-01-18T14:40:46.396380Z"
    }
   },
   "outputs": [
    {
     "data": {
      "text/plain": [
       "0"
      ]
     },
     "execution_count": 270,
     "metadata": {},
     "output_type": "execute_result"
    }
   ],
   "source": [
    "movies['keywords'].head()\n",
    "movies['keywords'][0]\n",
    "movies['keywords'].isna().sum()"
   ]
  },
  {
   "cell_type": "code",
   "execution_count": 271,
   "metadata": {},
   "outputs": [
    {
     "data": {
      "text/plain": [
       "0       culture-clash,future,space-war,space-colony,so...\n",
       "1       ocean,drug-abuse,exotic-island,east-india-trad...\n",
       "2       spy,based-on-novel,secret-agent,sequel,mi6,bri...\n",
       "3       dc-comics,crime-fighter,terrorist,secret-ident...\n",
       "4       based-on-novel,mars,medallion,space-travel,pri...\n",
       "                              ...                        \n",
       "4804    united-states–mexico-barrier,legs,arms,paper-k...\n",
       "4805                                                     \n",
       "4806    date,love-at-first-sight,narration,investigati...\n",
       "4807                                                     \n",
       "4808                 obsession,camcorder,crush,dream-girl\n",
       "Name: keywords, Length: 4809, dtype: object"
      ]
     },
     "execution_count": 271,
     "metadata": {},
     "output_type": "execute_result"
    }
   ],
   "source": [
    "## text-preprocessing\n",
    "\n",
    "# to make all words lower-case\n",
    "movies[\"keywords\"]=movies[\"keywords\"].str.lower()\n",
    "\n",
    "# Here we only need \"names\" from \"key-words\"\n",
    "# we also need to remove \" \" As 'Science','Fiction' & 'Science Fiction' can be represent as different  \n",
    "def keywords_extractor(df):\n",
    "    keywords=[i[\"name\"].replace(\" \",\"-\") for i in eval(df)]    # extract only \"name\"s from \"keywords-column\"\n",
    "    return keywords\n",
    "\n",
    "movies[\"keywords\"]=movies[\"keywords\"].apply(keywords_extractor)      # To list\n",
    "movies[\"keywords\"]=movies[\"keywords\"].apply(list_to_str)             # To String\n",
    "movies[\"keywords\"]"
   ]
  },
  {
   "cell_type": "markdown",
   "metadata": {},
   "source": [
    "### 'overview'"
   ]
  },
  {
   "cell_type": "code",
   "execution_count": 272,
   "metadata": {
    "execution": {
     "iopub.execute_input": "2022-01-18T14:40:46.774280Z",
     "iopub.status.busy": "2022-01-18T14:40:46.774036Z",
     "iopub.status.idle": "2022-01-18T14:40:51.013484Z",
     "shell.execute_reply": "2022-01-18T14:40:51.012677Z",
     "shell.execute_reply.started": "2022-01-18T14:40:46.774252Z"
    }
   },
   "outputs": [],
   "source": [
    "movies[\"overview\"].head()\n",
    "movies[\"overview\"][0]\n",
    "\n",
    "movies[\"overview\"].isna().sum()   # 3\n",
    "movies[\"overview\"].fillna(\" \",inplace=True)"
   ]
  },
  {
   "cell_type": "code",
   "execution_count": 273,
   "metadata": {},
   "outputs": [
    {
     "name": "stderr",
     "output_type": "stream",
     "text": [
      "<ipython-input-273-e7850b1e2416>:5: FutureWarning: The default value of regex will change from True to False in a future version.\n",
      "  movies[\"overview\"]=movies['overview'].str.replace('[^\\w\\s]','')\n"
     ]
    },
    {
     "data": {
      "text/plain": [
       "0       22nd centuri parapleg marin dispatch moon pand...\n",
       "1       captain barbossa long believ dead come back li...\n",
       "2       cryptic messag bond past send trail uncov sini...\n",
       "3       follow death district attorney harvey dent bat...\n",
       "4       john carter warweari former militari captain w...\n",
       "                              ...                        \n",
       "4804    el mariachi want play guitar carri famili trad...\n",
       "4805    newlyw coupl honeymoon upend arriv respect sister\n",
       "4806    sign seal deliv introduc dedic quartet civil s...\n",
       "4807    ambiti new york attorney sam sent shanghai ass...\n",
       "4808    ever sinc second grade first saw et extraterre...\n",
       "Name: preprocessed_overview, Length: 4809, dtype: object"
      ]
     },
     "execution_count": 273,
     "metadata": {},
     "output_type": "execute_result"
    }
   ],
   "source": [
    "# make all words lower-case\n",
    "movies[\"overview\"]=movies[\"overview\"].str.lower()\n",
    "\n",
    "# Remove \"punctuation\" \n",
    "movies[\"overview\"]=movies['overview'].str.replace('[^\\w\\s]','')\n",
    "\n",
    "# Remove \"stop-words\" as those are not important \n",
    "# Also need to \"Stem\" these words , As \"play\" , \"plays\" & \"playing\" can be represent as different.\n",
    "stop_words=stopwords.words('english')\n",
    "ps=PorterStemmer()\n",
    "\n",
    "def preprocess(words):\n",
    "    preprocessed=[word for word in words.split() if word not in stop_words]  # removoing stop-words\n",
    "    preprocessed=[ps.stem(word) for word in preprocessed]                   # steming \n",
    "    preprocessed=' '.join(preprocessed) # join words to sentence\n",
    "    return preprocessed\n",
    "\n",
    "movies['preprocessed_overview']=movies['overview'].apply(preprocess)\n",
    "movies['preprocessed_overview']"
   ]
  },
  {
   "cell_type": "raw",
   "metadata": {},
   "source": [
    "generated another col 'preprocessed_overview' from 'overview' \n",
    "'preprocessed_overview'=> removed stop-words,applied lower-case & porter-stemmer"
   ]
  },
  {
   "cell_type": "markdown",
   "metadata": {},
   "source": [
    "### 'cast' column"
   ]
  },
  {
   "cell_type": "code",
   "execution_count": 274,
   "metadata": {
    "execution": {
     "iopub.execute_input": "2022-01-18T14:40:51.015552Z",
     "iopub.status.busy": "2022-01-18T14:40:51.015282Z",
     "iopub.status.idle": "2022-01-18T14:40:53.021134Z",
     "shell.execute_reply": "2022-01-18T14:40:53.020453Z",
     "shell.execute_reply.started": "2022-01-18T14:40:51.015513Z"
    }
   },
   "outputs": [
    {
     "data": {
      "text/plain": [
       "0"
      ]
     },
     "execution_count": 274,
     "metadata": {},
     "output_type": "execute_result"
    }
   ],
   "source": [
    "movies['cast'].head()\n",
    "movies['cast'][0]\n",
    "\n",
    "movies['cast'].isna().sum()"
   ]
  },
  {
   "cell_type": "code",
   "execution_count": 275,
   "metadata": {},
   "outputs": [
    {
     "data": {
      "text/plain": [
       "0       sam-worthington,zoe-saldana,sigourney-weaver,s...\n",
       "1       johnny-depp,orlando-bloom,keira-knightley,stel...\n",
       "2       daniel-craig,christoph-waltz,léa-seydoux,ralph...\n",
       "3       christian-bale,michael-caine,gary-oldman,anne-...\n",
       "4       taylor-kitsch,lynn-collins,samantha-morton,wil...\n",
       "                              ...                        \n",
       "4804    carlos-gallardo,jaime-de-hoyos,peter-marquardt...\n",
       "4805    edward-burns,kerry-bishé,marsha-dietlein,caitl...\n",
       "4806    eric-mabius,kristin-booth,crystal-lowe,geoff-g...\n",
       "4807    daniel-henney,eliza-coupe,bill-paxton,alan-ruc...\n",
       "4808    drew-barrymore,brian-herzlinger,corey-feldman,...\n",
       "Name: cast, Length: 4809, dtype: object"
      ]
     },
     "execution_count": 275,
     "metadata": {},
     "output_type": "execute_result"
    }
   ],
   "source": [
    "# to make all words lower-case\n",
    "movies['cast']=movies['cast'].str.lower()\n",
    "\n",
    "# Here we only need \"names\" from \"key-words\"\n",
    "# As there are many \"cast\" in a movie , I'm just taking \"5 front casts\"\n",
    "# we also need to remove \" \" As 'johnny','depp' & 'johnny depp' can be represent as different  \n",
    "def casts_extractor(df):\n",
    "    cast=[i[\"name\"].replace(\" \",\"-\") for i in eval(df)]    # extract only \"name\"s from \"keywords-column\"\n",
    "    return cast[:5]     # First 5 cast names\n",
    "  \n",
    "movies['cast']=movies['cast'].apply(casts_extractor)\n",
    "movies['cast']=movies['cast'].apply(list_to_str) \n",
    "movies['cast']"
   ]
  },
  {
   "cell_type": "markdown",
   "metadata": {},
   "source": [
    "### 'crew' column"
   ]
  },
  {
   "cell_type": "code",
   "execution_count": 276,
   "metadata": {
    "execution": {
     "iopub.execute_input": "2022-01-18T14:40:53.023043Z",
     "iopub.status.busy": "2022-01-18T14:40:53.022446Z",
     "iopub.status.idle": "2022-01-18T14:40:57.641785Z",
     "shell.execute_reply": "2022-01-18T14:40:57.640872Z",
     "shell.execute_reply.started": "2022-01-18T14:40:53.023002Z"
    }
   },
   "outputs": [
    {
     "data": {
      "text/plain": [
       "0"
      ]
     },
     "execution_count": 276,
     "metadata": {},
     "output_type": "execute_result"
    }
   ],
   "source": [
    "movies['crew'].head()\n",
    "movies['crew'][0]\n",
    "movies['crew'].isna().sum()\n"
   ]
  },
  {
   "cell_type": "code",
   "execution_count": 277,
   "metadata": {},
   "outputs": [],
   "source": [
    "# to make all words lower-case\n",
    "movies['crew']=movies['crew'].str.lower()\n",
    "\n",
    "# Crews are important but it's lots of information to process & also not all crew members equally important for our task \n",
    "# So I'm taking only \"director\" & \"producer\"\n",
    "# we also need to remove \" \" As 'johnny','depp' & 'johnny depp' can be represent as different  \n",
    "def director_extractor(df):\n",
    "    \"\"\" Extract Director name from Crew Members\"\"\"\n",
    "    name=[i[\"name\"].replace(\" \",\"-\") for i in eval(df) if i[\"job\"]==\"director\"]    # extract only list of \"director-names\" \n",
    "    return [name[0] if len(name)!=0 else \"\"]  # if there are multiple \"directors\" return 1st && if no-director name listed then return \"\" \n",
    "\n",
    "movies['director']=movies['crew'].apply(director_extractor)\n",
    "movies['director']=movies['director'].apply(list_to_str) \n",
    "\n",
    "def producer_extractor(df):\n",
    "    \"\"\" Extract Producer name from Crew Members\"\"\"\n",
    "    name=[i[\"name\"].replace(\" \",\"-\") for i in eval(df) if i[\"job\"]==\"producer\"]    # extract only list of \"producer-names\" \n",
    "    return [name[0] if len(name)!=0 else \"\"]  # if there are multiple \"producers\" return 1st && if no-producer name listed then return \"\" \n",
    "    #return name\n",
    "\n",
    "movies['producer']=movies['crew'].apply(producer_extractor)\n",
    "movies['producer']=movies['producer'].apply(list_to_str) \n",
    "\n",
    "## As we extracted valuable info. from \"crew\" column, so we can now drop that\n",
    "movies.drop(['crew'],axis=1,inplace=True)"
   ]
  },
  {
   "cell_type": "code",
   "execution_count": 278,
   "metadata": {},
   "outputs": [
    {
     "data": {
      "text/plain": [
       "0             james-cameron,james-cameron\n",
       "1        jerry-bruckheimer,gore-verbinski\n",
       "2             barbara-broccoli,sam-mendes\n",
       "3         charles-roven,christopher-nolan\n",
       "4             colin-wilson,andrew-stanton\n",
       "                      ...                \n",
       "4804    robert-rodriguez,robert-rodriguez\n",
       "4805            edward-burns,edward-burns\n",
       "4806              harvey-kahn,scott-smith\n",
       "4807                          daniel-hsia\n",
       "4808                     brian-herzlinger\n",
       "Name: producer_director, Length: 4809, dtype: object"
      ]
     },
     "execution_count": 278,
     "metadata": {},
     "output_type": "execute_result"
    }
   ],
   "source": [
    "### In Some movies there are same \"producer\" as \"director\". So we have take one when they are same \n",
    "movies[['producer','director']].head()\n",
    "\n",
    "movies[\"producer_director\"]=movies[\"producer\"]+\",\"+movies[\"director\"]\n",
    "movies[\"producer_director\"]=movies[\"producer_director\"].str.lstrip(\",\")\n",
    "movies[\"producer_director\"]"
   ]
  },
  {
   "cell_type": "code",
   "execution_count": 279,
   "metadata": {},
   "outputs": [
    {
     "data": {
      "text/plain": [
       "0                          james-cameron\n",
       "1       jerry-bruckheimer,gore-verbinski\n",
       "2            barbara-broccoli,sam-mendes\n",
       "3        charles-roven,christopher-nolan\n",
       "4            colin-wilson,andrew-stanton\n",
       "                      ...               \n",
       "4804                    robert-rodriguez\n",
       "4805                        edward-burns\n",
       "4806             harvey-kahn,scott-smith\n",
       "4807                         daniel-hsia\n",
       "4808                    brian-herzlinger\n",
       "Name: producer_director, Length: 4809, dtype: object"
      ]
     },
     "execution_count": 279,
     "metadata": {},
     "output_type": "execute_result"
    }
   ],
   "source": [
    "def add_director_producer(df):\n",
    "    \"\"\" Remove duplicate value from director & producer columns \"\"\"\n",
    "    list_=[]\n",
    "    name=df.split(\",\")\n",
    "    [list_.append(i) for i in name if i not in list_]\n",
    "    return list_\n",
    "\n",
    "movies['producer_director']=movies['producer_director'].apply(add_director_producer)\n",
    "movies['producer_director']=movies['producer_director'].apply(list_to_str)\n",
    "movies['producer_director']"
   ]
  },
  {
   "cell_type": "raw",
   "metadata": {},
   "source": [
    "from 'crew' extracted producer & director; created 'producer','director' col  \n",
    "'producer_director' => 'producer'+'director' by removing duplicate value from both cols"
   ]
  },
  {
   "cell_type": "markdown",
   "metadata": {},
   "source": [
    "### 'production_companies' column"
   ]
  },
  {
   "cell_type": "code",
   "execution_count": 280,
   "metadata": {
    "execution": {
     "iopub.execute_input": "2022-01-18T14:40:57.644056Z",
     "iopub.status.busy": "2022-01-18T14:40:57.643823Z",
     "iopub.status.idle": "2022-01-18T14:40:57.773521Z",
     "shell.execute_reply": "2022-01-18T14:40:57.772711Z",
     "shell.execute_reply.started": "2022-01-18T14:40:57.644023Z"
    }
   },
   "outputs": [
    {
     "data": {
      "text/plain": [
       "0"
      ]
     },
     "execution_count": 280,
     "metadata": {},
     "output_type": "execute_result"
    }
   ],
   "source": [
    "movies['production_companies'].head()\n",
    "movies['production_companies'][0]\n",
    "movies['production_companies'].isna().sum()"
   ]
  },
  {
   "cell_type": "code",
   "execution_count": 281,
   "metadata": {},
   "outputs": [
    {
     "data": {
      "text/plain": [
       "0       ingenious-film-partners,twentieth-century-fox-...\n",
       "1            walt-disney-pictures,jerry-bruckheimer-films\n",
       "2                                columbia-pictures,danjaq\n",
       "3                         legendary-pictures,warner-bros.\n",
       "4                                    walt-disney-pictures\n",
       "                              ...                        \n",
       "4804                                    columbia-pictures\n",
       "4805                                                     \n",
       "4806    front-street-pictures,muse-entertainment-enter...\n",
       "4807                                                     \n",
       "4808            rusty-bear-entertainment,lucky-crow-films\n",
       "Name: production_companies, Length: 4809, dtype: object"
      ]
     },
     "execution_count": 281,
     "metadata": {},
     "output_type": "execute_result"
    }
   ],
   "source": [
    "# to make all words lower-case\n",
    "movies['production_companies']=movies['production_companies'].str.lower()\n",
    "\n",
    "# I did not know \"production_companies\" important or not but for me, some times I ignore movies thats are not belongs to known \"production_companies\"\n",
    "# so I'm keeping this column you can skip it\n",
    "# Here I'm taking only 2 front-line \"production_companies\" \n",
    "# we also need to remove \" \" As 'johnny','depp' & 'johnny depp' can be represent as different  \n",
    "def production_companies_extractor(df):\n",
    "    \"\"\" Extract production_companies name \"\"\"\n",
    "    name=[i[\"name\"].replace(\" \",\"-\") for i in eval(df)]    # extract only \"name\"s from \"keywords-column\"\n",
    "    return name[:2]   # extract Top2 \n",
    "\n",
    "movies['production_companies']=movies['production_companies'].apply(production_companies_extractor)\n",
    "movies['production_companies']=movies['production_companies'].apply(list_to_str)\n",
    "movies['production_companies']"
   ]
  },
  {
   "cell_type": "markdown",
   "metadata": {},
   "source": [
    "### 'original_language'"
   ]
  },
  {
   "cell_type": "code",
   "execution_count": 282,
   "metadata": {},
   "outputs": [
    {
     "data": {
      "text/plain": [
       "en    4510\n",
       "fr      70\n",
       "es      32\n",
       "de      27\n",
       "zh      27\n",
       "hi      19\n",
       "ja      16\n",
       "it      14\n",
       "ko      12\n",
       "cn      12\n",
       "ru      11\n",
       "pt       9\n",
       "da       7\n",
       "sv       5\n",
       "fa       4\n",
       "nl       4\n",
       "he       3\n",
       "th       3\n",
       "cs       2\n",
       "ar       2\n",
       "id       2\n",
       "ro       2\n",
       "ta       2\n",
       "pl       1\n",
       "te       1\n",
       "sl       1\n",
       "vi       1\n",
       "af       1\n",
       "ps       1\n",
       "nb       1\n",
       "hu       1\n",
       "no       1\n",
       "ky       1\n",
       "is       1\n",
       "tr       1\n",
       "xx       1\n",
       "el       1\n",
       "Name: original_language, dtype: int64"
      ]
     },
     "execution_count": 282,
     "metadata": {},
     "output_type": "execute_result"
    }
   ],
   "source": [
    "movies['original_language'].head()\n",
    "movies['original_language'][0]\n",
    "movies['original_language'].isna().sum()   # 0\n",
    "\n",
    "movies['original_language'].value_counts()\n",
    "# top 10 ==> en:4510 ; fr:70 ; es:32 ; zh:27 ; de:27 ; hi:19 ; ja:16 ; it:14 ; cn:12 ; ko:12"
   ]
  },
  {
   "cell_type": "markdown",
   "metadata": {},
   "source": [
    "### 'original_title'"
   ]
  },
  {
   "cell_type": "code",
   "execution_count": 283,
   "metadata": {},
   "outputs": [
    {
     "data": {
      "text/plain": [
       "0"
      ]
     },
     "execution_count": 283,
     "metadata": {},
     "output_type": "execute_result"
    }
   ],
   "source": [
    "movies['original_title'].head()\n",
    "movies['original_title'][0]\n",
    "movies['original_title'].isna().sum()  # 0"
   ]
  },
  {
   "cell_type": "code",
   "execution_count": 284,
   "metadata": {},
   "outputs": [
    {
     "data": {
      "text/plain": [
       "0       True\n",
       "1       True\n",
       "2       True\n",
       "3       True\n",
       "4       True\n",
       "        ... \n",
       "4804    True\n",
       "4805    True\n",
       "4806    True\n",
       "4807    True\n",
       "4808    True\n",
       "Length: 4809, dtype: bool"
      ]
     },
     "execution_count": 284,
     "metadata": {},
     "output_type": "execute_result"
    }
   ],
   "source": [
    "movies['original_title']==movies['title']"
   ]
  },
  {
   "cell_type": "raw",
   "metadata": {},
   "source": [
    "In maximum cases  'original_title' == 'title' ; so we can drop \"original_title\" column"
   ]
  },
  {
   "cell_type": "markdown",
   "metadata": {},
   "source": [
    "### 'popularity'"
   ]
  },
  {
   "cell_type": "code",
   "execution_count": 285,
   "metadata": {},
   "outputs": [
    {
     "data": {
      "text/plain": [
       "count    4809.000000\n",
       "mean       21.491664\n",
       "std        31.803366\n",
       "min         0.000000\n",
       "25%         4.667230\n",
       "50%        12.921594\n",
       "75%        28.350529\n",
       "max       875.581305\n",
       "Name: popularity, dtype: float64"
      ]
     },
     "execution_count": 285,
     "metadata": {},
     "output_type": "execute_result"
    }
   ],
   "source": [
    "movies['popularity'].head()\n",
    "movies['popularity'][0]\n",
    "movies['popularity'].isna().sum()  # 0\n",
    "\n",
    "movies['popularity'].describe()"
   ]
  },
  {
   "cell_type": "code",
   "execution_count": 286,
   "metadata": {},
   "outputs": [
    {
     "data": {
      "text/plain": [
       "count    4809.000000\n",
       "mean        0.024546\n",
       "std         0.036323\n",
       "min         0.000000\n",
       "25%         0.005330\n",
       "50%         0.014758\n",
       "75%         0.032379\n",
       "max         1.000000\n",
       "Name: normalized_popularity, dtype: float64"
      ]
     },
     "execution_count": 286,
     "metadata": {},
     "output_type": "execute_result"
    }
   ],
   "source": [
    "## Normalization\n",
    "\"\"\" Note:\n",
    "        standardized_df=(df-df.mean())/df.std()           # standardization produced most of -ve value (so i ignored)\n",
    "        normalized_df=(df-df.min())/(df.max()-df.min())   # normalization produces range between 0-1\n",
    "\"\"\"\n",
    "#movies['normalized_popularity']=(movies['popularity']-movies['popularity'].mean())/movies['popularity'].std()\n",
    "movies['normalized_popularity']=(movies['popularity']-movies['popularity'].min())/(movies['popularity'].max()-movies['popularity'].min())\n",
    "movies['normalized_popularity'].describe()"
   ]
  },
  {
   "cell_type": "raw",
   "metadata": {},
   "source": [
    "'popularity' column have max-value:875 & min-value:0;  \n",
    "we normalized that value & stored in 'normalized_popularity'"
   ]
  },
  {
   "cell_type": "markdown",
   "metadata": {},
   "source": [
    "### 'production_countries' "
   ]
  },
  {
   "cell_type": "code",
   "execution_count": 287,
   "metadata": {},
   "outputs": [
    {
     "data": {
      "text/plain": [
       "0"
      ]
     },
     "execution_count": 287,
     "metadata": {},
     "output_type": "execute_result"
    }
   ],
   "source": [
    "movies['production_countries' ].head()\n",
    "movies['production_countries' ][4]\n",
    "movies['production_countries' ].isna().sum()"
   ]
  },
  {
   "cell_type": "code",
   "execution_count": 288,
   "metadata": {},
   "outputs": [
    {
     "data": {
      "text/plain": [
       "0       United-States-of-America,United-Kingdom\n",
       "1                      United-States-of-America\n",
       "2       United-Kingdom,United-States-of-America\n",
       "3                      United-States-of-America\n",
       "4                      United-States-of-America\n",
       "                         ...                   \n",
       "4804            Mexico,United-States-of-America\n",
       "4805                                           \n",
       "4806                   United-States-of-America\n",
       "4807             United-States-of-America,China\n",
       "4808                   United-States-of-America\n",
       "Name: production_countries, Length: 4809, dtype: object"
      ]
     },
     "execution_count": 288,
     "metadata": {},
     "output_type": "execute_result"
    }
   ],
   "source": [
    "def production_countries_extractor(df):\n",
    "    production_countries=[i[\"name\"].replace(\" \",\"-\") for i in eval(df)]    # extract only \"name\"s from \"production_countries-column\"\n",
    "    return production_countries\n",
    "\n",
    "movies[\"production_countries\"]=movies[\"production_countries\"].apply(production_countries_extractor)\n",
    "movies[\"production_countries\"]=movies[\"production_countries\"].apply(list_to_str)\n",
    "movies[\"production_countries\"]"
   ]
  },
  {
   "cell_type": "markdown",
   "metadata": {},
   "source": [
    "### 'release_date' "
   ]
  },
  {
   "cell_type": "code",
   "execution_count": 289,
   "metadata": {},
   "outputs": [
    {
     "data": {
      "text/plain": [
       "'2009-12-10'"
      ]
     },
     "execution_count": 289,
     "metadata": {},
     "output_type": "execute_result"
    }
   ],
   "source": [
    "movies['release_date'].head()\n",
    "movies['release_date'].dtype     # \"object\"\n",
    "movies['release_date'][0]\n",
    "# movies['release_date'].isna().sum() # 1\n",
    "\n",
    "# movies['release_date'].value_counts()\n"
   ]
  },
  {
   "cell_type": "code",
   "execution_count": 290,
   "metadata": {},
   "outputs": [],
   "source": [
    "### incomplete "
   ]
  },
  {
   "cell_type": "raw",
   "metadata": {},
   "source": [
    "## convert to datetitime type\n",
    "movies['release_date']=pd.to_datetime(movies['release_date'])          # convert to date-time\n",
    "movies['release_year']=movies['release_date'].dt.year #pd.DatetimeIndex(movies['release_date']).year   # extract year"
   ]
  },
  {
   "cell_type": "raw",
   "metadata": {},
   "source": [
    "movies['release_year'].dtype"
   ]
  },
  {
   "cell_type": "markdown",
   "metadata": {},
   "source": [
    "### 'revenue' "
   ]
  },
  {
   "cell_type": "code",
   "execution_count": 291,
   "metadata": {},
   "outputs": [
    {
     "data": {
      "text/plain": [
       "count    4.809000e+03\n",
       "mean     8.227511e+07\n",
       "std      1.628379e+08\n",
       "min      0.000000e+00\n",
       "25%      0.000000e+00\n",
       "50%      1.917000e+07\n",
       "75%      9.291317e+07\n",
       "max      2.787965e+09\n",
       "Name: revenue, dtype: float64"
      ]
     },
     "execution_count": 291,
     "metadata": {},
     "output_type": "execute_result"
    }
   ],
   "source": [
    "movies['revenue'].head()\n",
    "movies['revenue'][0]\n",
    "movies['revenue'].isna().sum()\n",
    "\n",
    "movies['revenue'].max(),movies['revenue'].min()    # (2787965087, 0)\n",
    "movies['revenue'].describe()"
   ]
  },
  {
   "cell_type": "code",
   "execution_count": null,
   "metadata": {},
   "outputs": [],
   "source": []
  },
  {
   "cell_type": "code",
   "execution_count": 292,
   "metadata": {},
   "outputs": [
    {
     "data": {
      "text/html": [
       "<div>\n",
       "<style scoped>\n",
       "    .dataframe tbody tr th:only-of-type {\n",
       "        vertical-align: middle;\n",
       "    }\n",
       "\n",
       "    .dataframe tbody tr th {\n",
       "        vertical-align: top;\n",
       "    }\n",
       "\n",
       "    .dataframe thead th {\n",
       "        text-align: right;\n",
       "    }\n",
       "</style>\n",
       "<table border=\"1\" class=\"dataframe\">\n",
       "  <thead>\n",
       "    <tr style=\"text-align: right;\">\n",
       "      <th></th>\n",
       "      <th>budget (in Million)</th>\n",
       "      <th>genres</th>\n",
       "      <th>homepage</th>\n",
       "      <th>id</th>\n",
       "      <th>keywords</th>\n",
       "      <th>original_language</th>\n",
       "      <th>original_title</th>\n",
       "      <th>overview</th>\n",
       "      <th>popularity</th>\n",
       "      <th>production_companies</th>\n",
       "      <th>...</th>\n",
       "      <th>title</th>\n",
       "      <th>vote_average</th>\n",
       "      <th>vote_count</th>\n",
       "      <th>movie_id</th>\n",
       "      <th>cast</th>\n",
       "      <th>preprocessed_overview</th>\n",
       "      <th>director</th>\n",
       "      <th>producer</th>\n",
       "      <th>producer_director</th>\n",
       "      <th>normalized_popularity</th>\n",
       "    </tr>\n",
       "  </thead>\n",
       "  <tbody>\n",
       "    <tr>\n",
       "      <th>0</th>\n",
       "      <td>237</td>\n",
       "      <td>action,adventure,fantasy,science-fiction</td>\n",
       "      <td>http://www.avatarmovie.com/</td>\n",
       "      <td>19995</td>\n",
       "      <td>culture-clash,future,space-war,space-colony,so...</td>\n",
       "      <td>en</td>\n",
       "      <td>Avatar</td>\n",
       "      <td>in the 22nd century a paraplegic marine is dis...</td>\n",
       "      <td>150.437577</td>\n",
       "      <td>ingenious-film-partners,twentieth-century-fox-...</td>\n",
       "      <td>...</td>\n",
       "      <td>Avatar</td>\n",
       "      <td>7.2</td>\n",
       "      <td>11800</td>\n",
       "      <td>19995</td>\n",
       "      <td>sam-worthington,zoe-saldana,sigourney-weaver,s...</td>\n",
       "      <td>22nd centuri parapleg marin dispatch moon pand...</td>\n",
       "      <td>james-cameron</td>\n",
       "      <td>james-cameron</td>\n",
       "      <td>james-cameron</td>\n",
       "      <td>0.171815</td>\n",
       "    </tr>\n",
       "    <tr>\n",
       "      <th>1</th>\n",
       "      <td>300</td>\n",
       "      <td>adventure,fantasy,action</td>\n",
       "      <td>http://disney.go.com/disneypictures/pirates/</td>\n",
       "      <td>285</td>\n",
       "      <td>ocean,drug-abuse,exotic-island,east-india-trad...</td>\n",
       "      <td>en</td>\n",
       "      <td>Pirates of the Caribbean: At World's End</td>\n",
       "      <td>captain barbossa long believed to be dead has ...</td>\n",
       "      <td>139.082615</td>\n",
       "      <td>walt-disney-pictures,jerry-bruckheimer-films</td>\n",
       "      <td>...</td>\n",
       "      <td>Pirates of the Caribbean: At World's End</td>\n",
       "      <td>6.9</td>\n",
       "      <td>4500</td>\n",
       "      <td>285</td>\n",
       "      <td>johnny-depp,orlando-bloom,keira-knightley,stel...</td>\n",
       "      <td>captain barbossa long believ dead come back li...</td>\n",
       "      <td>gore-verbinski</td>\n",
       "      <td>jerry-bruckheimer</td>\n",
       "      <td>jerry-bruckheimer,gore-verbinski</td>\n",
       "      <td>0.158846</td>\n",
       "    </tr>\n",
       "    <tr>\n",
       "      <th>2</th>\n",
       "      <td>245</td>\n",
       "      <td>action,adventure,crime</td>\n",
       "      <td>http://www.sonypictures.com/movies/spectre/</td>\n",
       "      <td>206647</td>\n",
       "      <td>spy,based-on-novel,secret-agent,sequel,mi6,bri...</td>\n",
       "      <td>en</td>\n",
       "      <td>Spectre</td>\n",
       "      <td>a cryptic message from bonds past sends him on...</td>\n",
       "      <td>107.376788</td>\n",
       "      <td>columbia-pictures,danjaq</td>\n",
       "      <td>...</td>\n",
       "      <td>Spectre</td>\n",
       "      <td>6.3</td>\n",
       "      <td>4466</td>\n",
       "      <td>206647</td>\n",
       "      <td>daniel-craig,christoph-waltz,léa-seydoux,ralph...</td>\n",
       "      <td>cryptic messag bond past send trail uncov sini...</td>\n",
       "      <td>sam-mendes</td>\n",
       "      <td>barbara-broccoli</td>\n",
       "      <td>barbara-broccoli,sam-mendes</td>\n",
       "      <td>0.122635</td>\n",
       "    </tr>\n",
       "    <tr>\n",
       "      <th>3</th>\n",
       "      <td>250</td>\n",
       "      <td>action,crime,drama,thriller</td>\n",
       "      <td>http://www.thedarkknightrises.com/</td>\n",
       "      <td>49026</td>\n",
       "      <td>dc-comics,crime-fighter,terrorist,secret-ident...</td>\n",
       "      <td>en</td>\n",
       "      <td>The Dark Knight Rises</td>\n",
       "      <td>following the death of district attorney harve...</td>\n",
       "      <td>112.312950</td>\n",
       "      <td>legendary-pictures,warner-bros.</td>\n",
       "      <td>...</td>\n",
       "      <td>The Dark Knight Rises</td>\n",
       "      <td>7.6</td>\n",
       "      <td>9106</td>\n",
       "      <td>49026</td>\n",
       "      <td>christian-bale,michael-caine,gary-oldman,anne-...</td>\n",
       "      <td>follow death district attorney harvey dent bat...</td>\n",
       "      <td>christopher-nolan</td>\n",
       "      <td>charles-roven</td>\n",
       "      <td>charles-roven,christopher-nolan</td>\n",
       "      <td>0.128272</td>\n",
       "    </tr>\n",
       "    <tr>\n",
       "      <th>4</th>\n",
       "      <td>260</td>\n",
       "      <td>action,adventure,science-fiction</td>\n",
       "      <td>http://movies.disney.com/john-carter</td>\n",
       "      <td>49529</td>\n",
       "      <td>based-on-novel,mars,medallion,space-travel,pri...</td>\n",
       "      <td>en</td>\n",
       "      <td>John Carter</td>\n",
       "      <td>john carter is a warweary former military capt...</td>\n",
       "      <td>43.926995</td>\n",
       "      <td>walt-disney-pictures</td>\n",
       "      <td>...</td>\n",
       "      <td>John Carter</td>\n",
       "      <td>6.1</td>\n",
       "      <td>2124</td>\n",
       "      <td>49529</td>\n",
       "      <td>taylor-kitsch,lynn-collins,samantha-morton,wil...</td>\n",
       "      <td>john carter warweari former militari captain w...</td>\n",
       "      <td>andrew-stanton</td>\n",
       "      <td>colin-wilson</td>\n",
       "      <td>colin-wilson,andrew-stanton</td>\n",
       "      <td>0.050169</td>\n",
       "    </tr>\n",
       "  </tbody>\n",
       "</table>\n",
       "<p>5 rows × 27 columns</p>\n",
       "</div>"
      ],
      "text/plain": [
       "   budget (in Million)                                    genres  \\\n",
       "0                  237  action,adventure,fantasy,science-fiction   \n",
       "1                  300                  adventure,fantasy,action   \n",
       "2                  245                    action,adventure,crime   \n",
       "3                  250               action,crime,drama,thriller   \n",
       "4                  260          action,adventure,science-fiction   \n",
       "\n",
       "                                       homepage      id  \\\n",
       "0                   http://www.avatarmovie.com/   19995   \n",
       "1  http://disney.go.com/disneypictures/pirates/     285   \n",
       "2   http://www.sonypictures.com/movies/spectre/  206647   \n",
       "3            http://www.thedarkknightrises.com/   49026   \n",
       "4          http://movies.disney.com/john-carter   49529   \n",
       "\n",
       "                                            keywords original_language  \\\n",
       "0  culture-clash,future,space-war,space-colony,so...                en   \n",
       "1  ocean,drug-abuse,exotic-island,east-india-trad...                en   \n",
       "2  spy,based-on-novel,secret-agent,sequel,mi6,bri...                en   \n",
       "3  dc-comics,crime-fighter,terrorist,secret-ident...                en   \n",
       "4  based-on-novel,mars,medallion,space-travel,pri...                en   \n",
       "\n",
       "                             original_title  \\\n",
       "0                                    Avatar   \n",
       "1  Pirates of the Caribbean: At World's End   \n",
       "2                                   Spectre   \n",
       "3                     The Dark Knight Rises   \n",
       "4                               John Carter   \n",
       "\n",
       "                                            overview  popularity  \\\n",
       "0  in the 22nd century a paraplegic marine is dis...  150.437577   \n",
       "1  captain barbossa long believed to be dead has ...  139.082615   \n",
       "2  a cryptic message from bonds past sends him on...  107.376788   \n",
       "3  following the death of district attorney harve...  112.312950   \n",
       "4  john carter is a warweary former military capt...   43.926995   \n",
       "\n",
       "                                production_companies  ...  \\\n",
       "0  ingenious-film-partners,twentieth-century-fox-...  ...   \n",
       "1       walt-disney-pictures,jerry-bruckheimer-films  ...   \n",
       "2                           columbia-pictures,danjaq  ...   \n",
       "3                    legendary-pictures,warner-bros.  ...   \n",
       "4                               walt-disney-pictures  ...   \n",
       "\n",
       "                                      title vote_average  vote_count  \\\n",
       "0                                    Avatar          7.2       11800   \n",
       "1  Pirates of the Caribbean: At World's End          6.9        4500   \n",
       "2                                   Spectre          6.3        4466   \n",
       "3                     The Dark Knight Rises          7.6        9106   \n",
       "4                               John Carter          6.1        2124   \n",
       "\n",
       "   movie_id                                               cast  \\\n",
       "0     19995  sam-worthington,zoe-saldana,sigourney-weaver,s...   \n",
       "1       285  johnny-depp,orlando-bloom,keira-knightley,stel...   \n",
       "2    206647  daniel-craig,christoph-waltz,léa-seydoux,ralph...   \n",
       "3     49026  christian-bale,michael-caine,gary-oldman,anne-...   \n",
       "4     49529  taylor-kitsch,lynn-collins,samantha-morton,wil...   \n",
       "\n",
       "                               preprocessed_overview           director  \\\n",
       "0  22nd centuri parapleg marin dispatch moon pand...      james-cameron   \n",
       "1  captain barbossa long believ dead come back li...     gore-verbinski   \n",
       "2  cryptic messag bond past send trail uncov sini...         sam-mendes   \n",
       "3  follow death district attorney harvey dent bat...  christopher-nolan   \n",
       "4  john carter warweari former militari captain w...     andrew-stanton   \n",
       "\n",
       "            producer                 producer_director  normalized_popularity  \n",
       "0      james-cameron                     james-cameron               0.171815  \n",
       "1  jerry-bruckheimer  jerry-bruckheimer,gore-verbinski               0.158846  \n",
       "2   barbara-broccoli       barbara-broccoli,sam-mendes               0.122635  \n",
       "3      charles-roven   charles-roven,christopher-nolan               0.128272  \n",
       "4       colin-wilson       colin-wilson,andrew-stanton               0.050169  \n",
       "\n",
       "[5 rows x 27 columns]"
      ]
     },
     "execution_count": 292,
     "metadata": {},
     "output_type": "execute_result"
    }
   ],
   "source": [
    "movies[\"budget\"].head()\n",
    "movies[\"budget\"].describe()\n",
    "\n",
    "## we can convert it to Millions unit\n",
    "movies[\"budget\"]=movies[\"budget\"]//1000000\n",
    "\n",
    "## Renaming column to add Unit\n",
    "movies.rename(columns={\"budget\":\"budget (in Million)\"},inplace=True)\n",
    "\n",
    "movies.head()"
   ]
  },
  {
   "cell_type": "code",
   "execution_count": 195,
   "metadata": {},
   "outputs": [
    {
     "data": {
      "text/plain": [
       "0            1430\n",
       "7000000         6\n",
       "8000000         6\n",
       "100000000       5\n",
       "10000000        5\n",
       "             ... \n",
       "30987695        1\n",
       "30016165        1\n",
       "85498534        1\n",
       "30426096        1\n",
       "55003135        1\n",
       "Name: revenue, Length: 3297, dtype: int64"
      ]
     },
     "execution_count": 195,
     "metadata": {},
     "output_type": "execute_result"
    }
   ],
   "source": [
    "movies['revenue'].value_counts() "
   ]
  },
  {
   "cell_type": "raw",
   "metadata": {},
   "source": []
  },
  {
   "cell_type": "markdown",
   "metadata": {},
   "source": [
    "### 'runtime' "
   ]
  },
  {
   "cell_type": "code",
   "execution_count": 293,
   "metadata": {},
   "outputs": [],
   "source": [
    "movies['runtime'].head()\n",
    "movies['runtime'][0]\n",
    "movies['runtime'].isna().sum()  # 2\n",
    "\n",
    "movies['runtime'].value_counts() # 90.0:163 ; 100.0:149 ; 98.0:140\n",
    "movies['runtime'].describe()\n",
    "\n",
    "movies['runtime'].fillna(90.0,inplace=True)   # Nan value imputed with 90.0 as most of movies of that length"
   ]
  },
  {
   "cell_type": "markdown",
   "metadata": {},
   "source": [
    "### 'spoken_languages' "
   ]
  },
  {
   "cell_type": "code",
   "execution_count": 294,
   "metadata": {},
   "outputs": [
    {
     "data": {
      "text/plain": [
       "0"
      ]
     },
     "execution_count": 294,
     "metadata": {},
     "output_type": "execute_result"
    }
   ],
   "source": [
    "movies['spoken_languages'].head()\n",
    "movies['spoken_languages'][0]\n",
    "movies['spoken_languages'].isna().sum()"
   ]
  },
  {
   "cell_type": "code",
   "execution_count": 295,
   "metadata": {},
   "outputs": [
    {
     "data": {
      "text/plain": [
       "0                                 English,Español\n",
       "1                                         English\n",
       "2       Français,English,Español,Italiano,Deutsch\n",
       "3                                         English\n",
       "4                                         English\n",
       "                          ...                    \n",
       "4804                                      Español\n",
       "4805                                             \n",
       "4806                                      English\n",
       "4807                                      English\n",
       "4808                                      English\n",
       "Name: spoken_languages, Length: 4809, dtype: object"
      ]
     },
     "execution_count": 295,
     "metadata": {},
     "output_type": "execute_result"
    }
   ],
   "source": [
    "def spoken_languages_extractor(df):\n",
    "    spoken_languages=[i[\"name\"].replace(\" \",\"-\") for i in eval(df)]    # extract only \"name\"s from \"spoken_languages-column\"\n",
    "    return spoken_languages\n",
    "\n",
    "movies[\"spoken_languages\"]=movies[\"spoken_languages\"].apply(spoken_languages_extractor)\n",
    "movies[\"spoken_languages\"]=movies[\"spoken_languages\"].apply(list_to_str)\n",
    "movies[\"spoken_languages\"]"
   ]
  },
  {
   "cell_type": "markdown",
   "metadata": {},
   "source": [
    "### 'status'"
   ]
  },
  {
   "cell_type": "code",
   "execution_count": 296,
   "metadata": {},
   "outputs": [
    {
     "data": {
      "text/plain": [
       "Released           4801\n",
       "Rumored               5\n",
       "Post Production       3\n",
       "Name: status, dtype: int64"
      ]
     },
     "execution_count": 296,
     "metadata": {},
     "output_type": "execute_result"
    }
   ],
   "source": [
    "movies['status'].head()\n",
    "movies['status'][0]\n",
    "movies['status'].isna().sum()\n",
    "\n",
    "movies['status'].value_counts()  # Released:4801 ; Rumored:5 ; Post Production:3"
   ]
  },
  {
   "cell_type": "markdown",
   "metadata": {},
   "source": [
    "### 'vote_average'"
   ]
  },
  {
   "cell_type": "code",
   "execution_count": 297,
   "metadata": {},
   "outputs": [
    {
     "data": {
      "text/plain": [
       "6.0    217\n",
       "6.5    217\n",
       "6.7    214\n",
       "6.3    207\n",
       "6.1    202\n",
       "      ... \n",
       "9.5      1\n",
       "2.6      1\n",
       "2.7      1\n",
       "0.5      1\n",
       "9.3      1\n",
       "Name: vote_average, Length: 71, dtype: int64"
      ]
     },
     "execution_count": 297,
     "metadata": {},
     "output_type": "execute_result"
    }
   ],
   "source": [
    "movies['vote_average'].head()\n",
    "movies['vote_average'][0]\n",
    "movies['vote_average'].isna().sum()\n",
    "\n",
    "movies['vote_average'].max(),movies['vote_average'].min()  # (10.0, 0.0)\n",
    "movies['vote_average'].value_counts() \n",
    "# 6.0:217 ; 6.5:217 ; 6.7:214 ; 6.3:207 ; 6.1:202"
   ]
  },
  {
   "cell_type": "markdown",
   "metadata": {},
   "source": [
    "### 'vote_count'"
   ]
  },
  {
   "cell_type": "code",
   "execution_count": 298,
   "metadata": {},
   "outputs": [
    {
     "data": {
      "text/plain": [
       "0       62\n",
       "1       53\n",
       "2       46\n",
       "4       43\n",
       "3       41\n",
       "        ..\n",
       "1389     1\n",
       "5487     1\n",
       "1401     1\n",
       "3452     1\n",
       "2039     1\n",
       "Name: vote_count, Length: 1609, dtype: int64"
      ]
     },
     "execution_count": 298,
     "metadata": {},
     "output_type": "execute_result"
    }
   ],
   "source": [
    "movies['vote_count'].head()\n",
    "movies['vote_count'][0]\n",
    "movies['vote_count'].isna().sum()\n",
    "\n",
    "movies['vote_count'].max(),movies['vote_count'].min()  # (13752, 0)\n",
    "movies['vote_count'].value_counts()"
   ]
  },
  {
   "cell_type": "code",
   "execution_count": 299,
   "metadata": {},
   "outputs": [
    {
     "data": {
      "text/plain": [
       "(1.0, 0.0)"
      ]
     },
     "execution_count": 299,
     "metadata": {},
     "output_type": "execute_result"
    }
   ],
   "source": [
    "## Normalization\n",
    "\"\"\" Note:\n",
    "        standardized_df=(df-df.mean())/df.std()           # standardization produced most of -ve value (so i ignored)\n",
    "        normalized_df=(df-df.min())/(df.max()-df.min())   # normalization produces range between 0-1\n",
    "\"\"\"\n",
    "#movies['normalized_vote_count']=(movies['vote_count']-movies['vote_count'].mean())/movies['vote_count'].std()\n",
    "movies['normalized_vote_count']=(movies['vote_count']-movies['vote_count'].min())/(movies['vote_count'].max()-movies['vote_count'].min())\n",
    "movies['normalized_vote_count'].describe()     \n",
    "\n",
    "movies['normalized_vote_count'].max(),movies['normalized_vote_count'].min()   # (1.0, 0.0)"
   ]
  },
  {
   "cell_type": "markdown",
   "metadata": {},
   "source": [
    "### 'homepage'"
   ]
  },
  {
   "cell_type": "code",
   "execution_count": 300,
   "metadata": {},
   "outputs": [
    {
     "data": {
      "text/plain": [
       "3096"
      ]
     },
     "execution_count": 300,
     "metadata": {},
     "output_type": "execute_result"
    }
   ],
   "source": [
    "movies['homepage'].head()\n",
    "movies['homepage'][0]\n",
    "movies['homepage'].isna().sum()  #3096"
   ]
  },
  {
   "cell_type": "raw",
   "metadata": {},
   "source": [
    "This page is not that important & also have 3k+ missing values"
   ]
  },
  {
   "cell_type": "markdown",
   "metadata": {},
   "source": [
    "### \"tagline\""
   ]
  },
  {
   "cell_type": "code",
   "execution_count": 301,
   "metadata": {},
   "outputs": [
    {
     "data": {
      "text/plain": [
       "844"
      ]
     },
     "execution_count": 301,
     "metadata": {},
     "output_type": "execute_result"
    }
   ],
   "source": [
    "movies[\"tagline\"].head()\n",
    "movies[\"tagline\"][0]\n",
    "movies[\"tagline\"].isna().sum() # 844"
   ]
  },
  {
   "cell_type": "raw",
   "metadata": {},
   "source": [
    "This column is not that important & also have 800+ missing values"
   ]
  },
  {
   "cell_type": "markdown",
   "metadata": {},
   "source": [
    "## Select Important features"
   ]
  },
  {
   "cell_type": "code",
   "execution_count": 302,
   "metadata": {},
   "outputs": [],
   "source": [
    "movies.shape       # (4809, 29)\n",
    "movies.columns\n",
    "# # All features\n",
    "\"\"\" ['budget (in Million)', 'genres', 'homepage', 'id', 'keywords', 'original_language','original_title', 'overview', 'popularity',\n",
    "'production_companies','production_countries', 'release_date', 'revenue', 'runtime','spoken_languages', 'status', 'tagline', \n",
    "    'title', 'vote_average','vote_count', 'movie_id', 'cast', 'preprocessed_overview', 'director',\n",
    "       'producer', 'producer_director', 'normalized_popularity','normalized_vote_count', 'release_year']\"\"\"\n",
    "\n",
    "selected_cols_v2=['budget (in Million)','genres','keywords','original_language','production_companies','normalized_vote_count',\n",
    "                  'production_countries','runtime','spoken_languages','title','vote_average','movie_id','cast',\n",
    "                  'preprocessed_overview','director','producer','producer_director','normalized_popularity','overview']"
   ]
  },
  {
   "cell_type": "code",
   "execution_count": 303,
   "metadata": {},
   "outputs": [
    {
     "name": "stdout",
     "output_type": "stream",
     "text": [
      "<class 'pandas.core.frame.DataFrame'>\n",
      "Int64Index: 4809 entries, 0 to 4808\n",
      "Data columns (total 19 columns):\n",
      " #   Column                 Non-Null Count  Dtype  \n",
      "---  ------                 --------------  -----  \n",
      " 0   budget (in Million)    4809 non-null   int64  \n",
      " 1   genres                 4809 non-null   object \n",
      " 2   keywords               4809 non-null   object \n",
      " 3   original_language      4809 non-null   object \n",
      " 4   production_companies   4809 non-null   object \n",
      " 5   normalized_vote_count  4809 non-null   float64\n",
      " 6   production_countries   4809 non-null   object \n",
      " 7   runtime                4809 non-null   float64\n",
      " 8   spoken_languages       4809 non-null   object \n",
      " 9   title                  4809 non-null   object \n",
      " 10  vote_average           4809 non-null   float64\n",
      " 11  movie_id               4809 non-null   int64  \n",
      " 12  cast                   4809 non-null   object \n",
      " 13  preprocessed_overview  4809 non-null   object \n",
      " 14  director               4809 non-null   object \n",
      " 15  producer               4809 non-null   object \n",
      " 16  producer_director      4809 non-null   object \n",
      " 17  normalized_popularity  4809 non-null   float64\n",
      " 18  overview               4809 non-null   object \n",
      "dtypes: float64(4), int64(2), object(13)\n",
      "memory usage: 880.4+ KB\n"
     ]
    }
   ],
   "source": [
    "Selected_data_v2=movies[selected_cols_v2]\n",
    "Selected_data_v2.shape         # (4809, 19)\n",
    "Selected_data_v2.isna().sum()  # 0\n",
    "Selected_data_v2.info()"
   ]
  },
  {
   "cell_type": "markdown",
   "metadata": {},
   "source": [
    "### Generalize \"normalized_popularity\",\"vote_average\",\"normalized_vote_count\""
   ]
  },
  {
   "cell_type": "code",
   "execution_count": 304,
   "metadata": {},
   "outputs": [
    {
     "name": "stderr",
     "output_type": "stream",
     "text": [
      "<ipython-input-304-7e18dad04e30>:5: SettingWithCopyWarning: \n",
      "A value is trying to be set on a copy of a slice from a DataFrame.\n",
      "Try using .loc[row_indexer,col_indexer] = value instead\n",
      "\n",
      "See the caveats in the documentation: https://pandas.pydata.org/pandas-docs/stable/user_guide/indexing.html#returning-a-view-versus-a-copy\n",
      "  Selected_data_v2[\"rating\"]=round((Selected_data_v2[\"normalized_popularity\"]*Selected_data_v2[\"normalized_vote_count\"])+Selected_data_v2[\"vote_average\"],1)\n",
      "c:\\Users\\jitan\\anaconda3\\lib\\site-packages\\pandas\\core\\frame.py:4308: SettingWithCopyWarning: \n",
      "A value is trying to be set on a copy of a slice from a DataFrame\n",
      "\n",
      "See the caveats in the documentation: https://pandas.pydata.org/pandas-docs/stable/user_guide/indexing.html#returning-a-view-versus-a-copy\n",
      "  return super().drop(\n"
     ]
    }
   ],
   "source": [
    "# There are these type of measures about the movie (to make it much easier , i will combine all)\n",
    "Selected_data_v2[[\"normalized_popularity\",\"vote_average\",\"normalized_vote_count\"]]\n",
    "\n",
    "## (\"normalized_popularity\"*\"vote_average\")+\"normalized_vote_count\"\n",
    "Selected_data_v2[\"rating\"]=round((Selected_data_v2[\"normalized_popularity\"]*Selected_data_v2[\"normalized_vote_count\"])+Selected_data_v2[\"vote_average\"],1)\n",
    "Selected_data_v2[\"rating\"].min(),Selected_data_v2[\"rating\"].max()  # (0.0, 10.0)\n",
    "Selected_data_v2[\"rating\"]\n",
    "\n",
    "# Drop \"normalized_popularity\",\"vote_average\",\"normalized_vote_count\"\n",
    "Selected_data_v2.drop([\"normalized_popularity\",\"vote_average\",\"normalized_vote_count\"],axis=1,inplace=True)"
   ]
  },
  {
   "cell_type": "code",
   "execution_count": 112,
   "metadata": {},
   "outputs": [
    {
     "name": "stderr",
     "output_type": "stream",
     "text": [
      "<ipython-input-112-171df6e4ffef>:2: SettingWithCopyWarning: \n",
      "A value is trying to be set on a copy of a slice from a DataFrame.\n",
      "Try using .loc[row_indexer,col_indexer] = value instead\n",
      "\n",
      "See the caveats in the documentation: https://pandas.pydata.org/pandas-docs/stable/user_guide/indexing.html#returning-a-view-versus-a-copy\n",
      "  Selected_data_v2['preprocessed_keywords']=Selected_data_v2['keywords'].apply(' '.join)   # converts list to strings\n",
      "<ipython-input-112-171df6e4ffef>:3: SettingWithCopyWarning: \n",
      "A value is trying to be set on a copy of a slice from a DataFrame.\n",
      "Try using .loc[row_indexer,col_indexer] = value instead\n",
      "\n",
      "See the caveats in the documentation: https://pandas.pydata.org/pandas-docs/stable/user_guide/indexing.html#returning-a-view-versus-a-copy\n",
      "  Selected_data_v2['preprocessed_genres']=Selected_data_v2['genres'].apply(' '.join)       # converts list to strings\n",
      "<ipython-input-112-171df6e4ffef>:4: SettingWithCopyWarning: \n",
      "A value is trying to be set on a copy of a slice from a DataFrame.\n",
      "Try using .loc[row_indexer,col_indexer] = value instead\n",
      "\n",
      "See the caveats in the documentation: https://pandas.pydata.org/pandas-docs/stable/user_guide/indexing.html#returning-a-view-versus-a-copy\n",
      "  Selected_data_v2['preprocessed_cast']=Selected_data_v2['cast'].apply(' '.join)           # converts list to strings\n",
      "<ipython-input-112-171df6e4ffef>:5: SettingWithCopyWarning: \n",
      "A value is trying to be set on a copy of a slice from a DataFrame.\n",
      "Try using .loc[row_indexer,col_indexer] = value instead\n",
      "\n",
      "See the caveats in the documentation: https://pandas.pydata.org/pandas-docs/stable/user_guide/indexing.html#returning-a-view-versus-a-copy\n",
      "  Selected_data_v2['preprocessed_director']=Selected_data_v2['director'].apply(' '.join)       # converts list to strings\n",
      "<ipython-input-112-171df6e4ffef>:6: SettingWithCopyWarning: \n",
      "A value is trying to be set on a copy of a slice from a DataFrame.\n",
      "Try using .loc[row_indexer,col_indexer] = value instead\n",
      "\n",
      "See the caveats in the documentation: https://pandas.pydata.org/pandas-docs/stable/user_guide/indexing.html#returning-a-view-versus-a-copy\n",
      "  Selected_data_v2['preprocessed_producer']=Selected_data_v2['producer'].apply(' '.join)       # converts list to strings\n",
      "<ipython-input-112-171df6e4ffef>:7: SettingWithCopyWarning: \n",
      "A value is trying to be set on a copy of a slice from a DataFrame.\n",
      "Try using .loc[row_indexer,col_indexer] = value instead\n",
      "\n",
      "See the caveats in the documentation: https://pandas.pydata.org/pandas-docs/stable/user_guide/indexing.html#returning-a-view-versus-a-copy\n",
      "  Selected_data_v2['preprocessed_spoken_languages']=Selected_data_v2['spoken_languages'].apply(' '.join)       # converts list to strings\n",
      "<ipython-input-112-171df6e4ffef>:8: SettingWithCopyWarning: \n",
      "A value is trying to be set on a copy of a slice from a DataFrame.\n",
      "Try using .loc[row_indexer,col_indexer] = value instead\n",
      "\n",
      "See the caveats in the documentation: https://pandas.pydata.org/pandas-docs/stable/user_guide/indexing.html#returning-a-view-versus-a-copy\n",
      "  Selected_data_v2['preprocessed_production_companies']=Selected_data_v2['production_companies'].apply(' '.join)       # converts list to strings\n",
      "<ipython-input-112-171df6e4ffef>:9: SettingWithCopyWarning: \n",
      "A value is trying to be set on a copy of a slice from a DataFrame.\n",
      "Try using .loc[row_indexer,col_indexer] = value instead\n",
      "\n",
      "See the caveats in the documentation: https://pandas.pydata.org/pandas-docs/stable/user_guide/indexing.html#returning-a-view-versus-a-copy\n",
      "  Selected_data_v2['preprocessed_production_countries']=Selected_data_v2['production_countries'].apply(' '.join)       # converts list to strings\n",
      "c:\\Users\\jitan\\anaconda3\\lib\\site-packages\\pandas\\core\\frame.py:4308: SettingWithCopyWarning: \n",
      "A value is trying to be set on a copy of a slice from a DataFrame\n",
      "\n",
      "See the caveats in the documentation: https://pandas.pydata.org/pandas-docs/stable/user_guide/indexing.html#returning-a-view-versus-a-copy\n",
      "  return super().drop(\n"
     ]
    }
   ],
   "source": [
    "### converts list to strings\n",
    "Selected_data_v2['preprocessed_keywords']=Selected_data_v2['keywords'].apply(' '.join)   # converts list to strings\n",
    "Selected_data_v2['preprocessed_genres']=Selected_data_v2['genres'].apply(' '.join)       # converts list to strings\n",
    "Selected_data_v2['preprocessed_cast']=Selected_data_v2['cast'].apply(' '.join)           # converts list to strings\n",
    "Selected_data_v2['preprocessed_director']=Selected_data_v2['director'].apply(' '.join)       # converts list to strings\n",
    "Selected_data_v2['preprocessed_producer']=Selected_data_v2['producer'].apply(' '.join)       # converts list to strings\n",
    "Selected_data_v2['preprocessed_spoken_languages']=Selected_data_v2['spoken_languages'].apply(' '.join)       # converts list to strings\n",
    "Selected_data_v2['preprocessed_production_companies']=Selected_data_v2['production_companies'].apply(' '.join)       # converts list to strings\n",
    "Selected_data_v2['preprocessed_production_countries']=Selected_data_v2['production_countries'].apply(' '.join)       # converts list to strings\n",
    "Selected_data_v2['preprocessed_producer_director']=Selected_data_v2['producer_director'].apply(' '.join)       # converts list to strings\n",
    "\n",
    "## Dropinng all columns\n",
    "Selected_data_v2.drop(['keywords','genres','cast','director','producer','spoken_languages','production_companies','production_countries','producer_director'],axis=1,inplace=True)\n"
   ]
  },
  {
   "cell_type": "code",
   "execution_count": 306,
   "metadata": {},
   "outputs": [],
   "source": [
    "Selected_data_v2.head(5)\n",
    "Selected_data_v2.isna().sum()\n",
    "\n",
    "#Selected_data_v2.to_csv(r\"D:\\Projects\\Content-Based_Movie_Recommendation_System-main\\Backend\\Data\\preprocessed_data_v2.csv\",index=False)\n"
   ]
  },
  {
   "cell_type": "markdown",
   "metadata": {},
   "source": [
    "## Prepare Data for Recommendation System"
   ]
  },
  {
   "cell_type": "code",
   "execution_count": 307,
   "metadata": {},
   "outputs": [
    {
     "data": {
      "text/plain": [
       "budget (in Million)      0\n",
       "genres                   0\n",
       "keywords                 0\n",
       "original_language        0\n",
       "production_companies     0\n",
       "production_countries     0\n",
       "runtime                  0\n",
       "spoken_languages         0\n",
       "title                    0\n",
       "movie_id                 0\n",
       "cast                     0\n",
       "preprocessed_overview    0\n",
       "director                 0\n",
       "producer                 0\n",
       "producer_director        0\n",
       "overview                 0\n",
       "rating                   0\n",
       "dtype: int64"
      ]
     },
     "execution_count": 307,
     "metadata": {},
     "output_type": "execute_result"
    }
   ],
   "source": [
    "movie_data=Selected_data_v2[[\"movie_id\",\"title\"]]\n",
    "movie_data.head()\n",
    "Selected_data_v2.isna().sum()"
   ]
  },
  {
   "cell_type": "code",
   "execution_count": 313,
   "metadata": {},
   "outputs": [
    {
     "name": "stderr",
     "output_type": "stream",
     "text": [
      "<ipython-input-313-9e38222c15f9>:2: SettingWithCopyWarning: \n",
      "A value is trying to be set on a copy of a slice from a DataFrame.\n",
      "Try using .loc[row_indexer,col_indexer] = value instead\n",
      "\n",
      "See the caveats in the documentation: https://pandas.pydata.org/pandas-docs/stable/user_guide/indexing.html#returning-a-view-versus-a-copy\n",
      "  movie_data[\"tags\"]= Selected_data_v2['keywords']+\" \"+Selected_data_v2['preprocessed_overview']+\" \"+Selected_data_v2['original_language']+\" \"+Selected_data_v2['genres']+\" \"+Selected_data_v2['cast']+\" \"+Selected_data_v2['spoken_languages']+\" \"+Selected_data_v2['production_companies']+\" \"+Selected_data_v2['production_countries']+\" \"+Selected_data_v2['producer_director']\n",
      "<ipython-input-313-9e38222c15f9>:3: SettingWithCopyWarning: \n",
      "A value is trying to be set on a copy of a slice from a DataFrame.\n",
      "Try using .loc[row_indexer,col_indexer] = value instead\n",
      "\n",
      "See the caveats in the documentation: https://pandas.pydata.org/pandas-docs/stable/user_guide/indexing.html#returning-a-view-versus-a-copy\n",
      "  movie_data[\"tags\"]=movie_data[\"tags\"].str.replace(\",\",\" \")\n"
     ]
    }
   ],
   "source": [
    "## We need to merge ['original_language', 'preprocessed_overview','keywords','genres','cast','spoken_languages','production_companies','production_countries','producer_director']\n",
    "movie_data[\"tags\"]= Selected_data_v2['keywords']+\" \"+Selected_data_v2['preprocessed_overview']+\" \"+Selected_data_v2['original_language']+\" \"+Selected_data_v2['genres']+\" \"+Selected_data_v2['cast']+\" \"+Selected_data_v2['spoken_languages']+\" \"+Selected_data_v2['production_companies']+\" \"+Selected_data_v2['production_countries']+\" \"+Selected_data_v2['producer_director']\n",
    "movie_data[\"tags\"]=movie_data[\"tags\"].str.replace(\",\",\" \")         # Remove ',' from string\n",
    "movie_data[\"tags\"]"
   ]
  },
  {
   "cell_type": "code",
   "execution_count": 316,
   "metadata": {},
   "outputs": [],
   "source": [
    "movie_data.head(50)\n",
    "movie_data.isna().sum()\n",
    "movie_data.to_csv(r\"D:\\Projects\\Content-Based_Movie_Recommendation_System-main\\Backend\\Data\\processed_data_for_movie_recommendation.csv\",index=False)"
   ]
  },
  {
   "cell_type": "markdown",
   "metadata": {},
   "source": [
    "## Preprocess Data for Filtering"
   ]
  },
  {
   "cell_type": "code",
   "execution_count": 336,
   "metadata": {},
   "outputs": [],
   "source": [
    "import pandas as pd\n",
    "import numpy as np\n"
   ]
  },
  {
   "cell_type": "code",
   "execution_count": 337,
   "metadata": {},
   "outputs": [
    {
     "data": {
      "text/plain": [
       "Index(['budget (in Million)', 'genres', 'keywords', 'original_language',\n",
       "       'production_companies', 'production_countries', 'runtime',\n",
       "       'spoken_languages', 'title', 'movie_id', 'cast',\n",
       "       'preprocessed_overview', 'director', 'producer', 'producer_director',\n",
       "       'overview', 'rating'],\n",
       "      dtype='object')"
      ]
     },
     "execution_count": 337,
     "metadata": {},
     "output_type": "execute_result"
    }
   ],
   "source": [
    "Selected_data_v2.head()\n",
    "Selected_data_v2.isna().sum()\n",
    "Selected_data_v2.isna().columns"
   ]
  },
  {
   "cell_type": "code",
   "execution_count": 356,
   "metadata": {},
   "outputs": [
    {
     "data": {
      "text/html": [
       "<div>\n",
       "<style scoped>\n",
       "    .dataframe tbody tr th:only-of-type {\n",
       "        vertical-align: middle;\n",
       "    }\n",
       "\n",
       "    .dataframe tbody tr th {\n",
       "        vertical-align: top;\n",
       "    }\n",
       "\n",
       "    .dataframe thead th {\n",
       "        text-align: right;\n",
       "    }\n",
       "</style>\n",
       "<table border=\"1\" class=\"dataframe\">\n",
       "  <thead>\n",
       "    <tr style=\"text-align: right;\">\n",
       "      <th></th>\n",
       "      <th>producer</th>\n",
       "      <th>director</th>\n",
       "    </tr>\n",
       "  </thead>\n",
       "  <tbody>\n",
       "    <tr>\n",
       "      <th>0</th>\n",
       "      <td>james-cameron</td>\n",
       "      <td>james-cameron</td>\n",
       "    </tr>\n",
       "    <tr>\n",
       "      <th>1</th>\n",
       "      <td>jerry-bruckheimer</td>\n",
       "      <td>gore-verbinski</td>\n",
       "    </tr>\n",
       "    <tr>\n",
       "      <th>2</th>\n",
       "      <td>barbara-broccoli</td>\n",
       "      <td>sam-mendes</td>\n",
       "    </tr>\n",
       "    <tr>\n",
       "      <th>3</th>\n",
       "      <td>charles-roven</td>\n",
       "      <td>christopher-nolan</td>\n",
       "    </tr>\n",
       "    <tr>\n",
       "      <th>4</th>\n",
       "      <td>colin-wilson</td>\n",
       "      <td>andrew-stanton</td>\n",
       "    </tr>\n",
       "    <tr>\n",
       "      <th>...</th>\n",
       "      <td>...</td>\n",
       "      <td>...</td>\n",
       "    </tr>\n",
       "    <tr>\n",
       "      <th>4804</th>\n",
       "      <td>robert-rodriguez</td>\n",
       "      <td>robert-rodriguez</td>\n",
       "    </tr>\n",
       "    <tr>\n",
       "      <th>4805</th>\n",
       "      <td>edward-burns</td>\n",
       "      <td>edward-burns</td>\n",
       "    </tr>\n",
       "    <tr>\n",
       "      <th>4806</th>\n",
       "      <td>harvey-kahn</td>\n",
       "      <td>scott-smith</td>\n",
       "    </tr>\n",
       "    <tr>\n",
       "      <th>4807</th>\n",
       "      <td></td>\n",
       "      <td>daniel-hsia</td>\n",
       "    </tr>\n",
       "    <tr>\n",
       "      <th>4808</th>\n",
       "      <td></td>\n",
       "      <td>brian-herzlinger</td>\n",
       "    </tr>\n",
       "  </tbody>\n",
       "</table>\n",
       "<p>4809 rows × 2 columns</p>\n",
       "</div>"
      ],
      "text/plain": [
       "               producer           director\n",
       "0         james-cameron      james-cameron\n",
       "1     jerry-bruckheimer     gore-verbinski\n",
       "2      barbara-broccoli         sam-mendes\n",
       "3         charles-roven  christopher-nolan\n",
       "4          colin-wilson     andrew-stanton\n",
       "...                 ...                ...\n",
       "4804   robert-rodriguez   robert-rodriguez\n",
       "4805       edward-burns       edward-burns\n",
       "4806        harvey-kahn        scott-smith\n",
       "4807                           daniel-hsia\n",
       "4808                      brian-herzlinger\n",
       "\n",
       "[4809 rows x 2 columns]"
      ]
     },
     "execution_count": 356,
     "metadata": {},
     "output_type": "execute_result"
    }
   ],
   "source": [
    "Selected_data_v2[[\"producer\",\"director\"]]"
   ]
  },
  {
   "cell_type": "code",
   "execution_count": 338,
   "metadata": {},
   "outputs": [
    {
     "data": {
      "text/plain": [
       "budget (in Million)     0\n",
       "original_language       0\n",
       "runtime                 0\n",
       "title                   0\n",
       "movie_id                0\n",
       "rating                  0\n",
       "keywords                0\n",
       "genres                  0\n",
       "cast                    0\n",
       "director                0\n",
       "producer                0\n",
       "spoken_languages        0\n",
       "production_companies    0\n",
       "production_countries    0\n",
       "dtype: int64"
      ]
     },
     "execution_count": 338,
     "metadata": {},
     "output_type": "execute_result"
    }
   ],
   "source": [
    "data=Selected_data_v2[['budget (in Million)','original_language','runtime','title','movie_id','rating','keywords','genres','cast','director','producer','spoken_languages','production_companies','production_countries']]\n",
    "data.head()\n",
    "data.isna().sum()\n"
   ]
  },
  {
   "cell_type": "markdown",
   "metadata": {},
   "source": [
    "### Preparing Data for filtering "
   ]
  },
  {
   "cell_type": "code",
   "execution_count": 342,
   "metadata": {},
   "outputs": [
    {
     "data": {
      "text/plain": [
       "Index(['budget (in Million)', 'original_language', 'runtime', 'title',\n",
       "       'rating', 'keywords', 'genres', 'cast', 'director', 'producer',\n",
       "       'spoken_languages', 'production_companies', 'production_countries'],\n",
       "      dtype='object')"
      ]
     },
     "execution_count": 342,
     "metadata": {},
     "output_type": "execute_result"
    }
   ],
   "source": [
    "data=data.set_index(\"movie_id\")     # set movie_id as Index\n",
    "data.columns"
   ]
  },
  {
   "cell_type": "code",
   "execution_count": 347,
   "metadata": {},
   "outputs": [],
   "source": [
    "## Remove \"-\" & Make all words to 'title'\n",
    "data[\"keywords\"]=data[\"keywords\"].str.replace(\"-\",\" \")\n",
    "data[\"keywords\"]=data[\"keywords\"].str.title()\n",
    "\n",
    "data[\"genres\"]=data[\"genres\"].str.replace(\"-\",\" \")\n",
    "data[\"genres\"]=data[\"genres\"].str.title()\n",
    "\n",
    "data[\"cast\"]=data[\"cast\"].str.replace(\"-\",\" \")\n",
    "data[\"cast\"]=data[\"cast\"].str.title()\n",
    "\n",
    "data[\"producer\"]=data[\"producer\"].str.replace(\"-\",\" \")\n",
    "data[\"producer\"]=data[\"producer\"].str.title()\n",
    "\n",
    "data[\"director\"]=data[\"director\"].str.replace(\"-\",\" \")\n",
    "data[\"director\"]=data[\"director\"].str.title()\n",
    "\n",
    "data[\"production_companies\"]=data[\"production_companies\"].str.replace(\"-\",\" \")\n",
    "data[\"production_companies\"]=data[\"production_companies\"].str.title()\n",
    "\n",
    "data[\"production_countries\"]=data[\"production_countries\"].str.replace(\"-\",\" \")\n",
    "data[\"production_countries\"]=data[\"production_countries\"].str.title()"
   ]
  },
  {
   "cell_type": "code",
   "execution_count": 392,
   "metadata": {},
   "outputs": [
    {
     "data": {
      "text/plain": [
       "United States Of America                   2979\n",
       "United Kingdom,United States Of America     182\n",
       "                                            174\n",
       "United Kingdom                              131\n",
       "Germany,United States Of America            119\n",
       "                                           ... \n",
       "Bulgaria                                      1\n",
       "Canada,Russia,United States Of America        1\n",
       "Turkey                                        1\n",
       "Spain,United Kingdom,France                   1\n",
       "France,Germany,Romania                        1\n",
       "Name: production_countries, Length: 469, dtype: int64"
      ]
     },
     "execution_count": 392,
     "metadata": {},
     "output_type": "execute_result"
    }
   ],
   "source": [
    "data.isna().sum()\n",
    "data.head()"
   ]
  },
  {
   "cell_type": "code",
   "execution_count": null,
   "metadata": {},
   "outputs": [],
   "source": [
    "def get_unique_value(df,thre):\n",
    "    \"\"\" Takes Column & returns set(unique items present) \"\"\"\n",
    "    items=[]\n",
    "    word_count={}\n",
    "    unique=[]\n",
    "\n",
    "    for line in df:\n",
    "        for item in line.split(\" \"):\n",
    "            items.append(item)\n",
    "    for item in items:\n",
    "        if item not in word_count.keys():\n",
    "            if items.count(item) >=thre:\n",
    "                word_count[item]=items.count(item)\n",
    "    return word_count,word_count.keys()\n",
    "\n",
    "count,unique=get_unique_value(data['preprocessed_production_countries'],10)\n",
    "count,unique\n",
    "\n",
    "\n",
    "def get_movie_name():\n",
    "    \"\"\" Gets List of Movie Names \"\"\"\n",
    "    movies_name=data[\"title\"].values\n",
    "    return movies_name\n",
    "##\n",
    "movies_name=get_movie_name()\n",
    "movies_name"
   ]
  },
  {
   "cell_type": "code",
   "execution_count": null,
   "metadata": {},
   "outputs": [],
   "source": [
    "## List of all unique value for select box\n",
    "original_language_list=['en','ja','fr','zh','es','ko','de','hi','ru','te','cn','it','nl','ta','sv','th','da','xx','hu','cs','pt','is','tr','nb','af','pl','he','ar','vi','ky','id','ro','fa','no','sl','ps','el']\n",
    "production_countries_list=['United States Of America', 'United Kingdom', 'Czech Republic', 'New Zealand', 'Germany', 'China', 'Canada', 'Italy', 'Japan', 'Australia', 'France', 'Belgium', 'India', 'Netherlands', 'Spain', 'United Arab Emirates', 'Hong Kong', 'Ireland', 'Hungary', 'Norway', 'Sweden', 'South Africa', 'Russia', 'Romania', 'Mexico', 'Switzerland', 'Denmark', 'South Korea', 'Brazil', 'Luxembourg']   # freq>=10\n",
    "production_companies_list=['Ingenious Film Partners', 'Twentieth Century Fox Film Corporation', 'Walt Disney Pictures', 'Columbia Pictures', 'Legendary Pictures', 'Warner Bros.', 'Paramount Pictures', 'Amblin Entertainment', 'New Line Cinema', 'Imagine Entertainment', 'Universal Pictures', 'Dreamworks Skg', 'Original Film', 'Village Roadshow Pictures', 'Dune Entertainment', 'Dreamworks Animation', 'Spyglass Entertainment', 'Lionsgate', 'Fox 2000 Pictures', 'Touchstone Pictures', 'Columbia Pictures Corporation', 'Summit Entertainment', 'Metro Goldwyn Mayer (Mgm)', 'Regency Enterprises', 'Tristar Pictures', 'Lions Gate Films', 'Relativity Media', 'Miramax Films', 'The Weinstein Company', 'Castle Rock Entertainment', 'Studiocanal', 'Revolution Studios', 'Scott Rudin Productions', 'United Artists', 'Hollywood Pictures', 'Lakeshore Entertainment', 'Bbc Films', 'Screen Gems', 'Dimension Films', 'Fox Searchlight Pictures']  # freq>=25\n",
    "spoken_languages_list=['English', 'Español', 'Français', 'Italiano', 'Deutsch', '普通话', 'Pусский', '日本語', 'Latin', 'हिन्दी', 'Português', '', 'العربية', '广州话-/-廣州話', 'Polski']   #freq >= 45\n",
    "producer_list=['James Cameron', 'Gore Verbinski', 'Sam Mendes', 'Christopher Nolan', 'Sam Raimi', 'Zack Snyder', 'Bryan Singer', 'Marc Forster', 'Andrew Adamson', 'Rob Marshall', 'Barry Sonnenfeld', 'Peter Jackson', 'Ridley Scott', 'Chris Weitz', 'Peter Berg', 'Tim Burton', 'Brett Ratner', 'Michael Bay', 'Martin Campbell', 'Mcg', 'James Wan', 'Mike Newell', 'Guillermo Del Toro', 'Steven Spielberg', 'Justin Lin', 'Roland Emmerich', 'Robert Zemeckis', 'Lilly Wachowski', 'Jon Favreau', 'Martin Scorsese', 'Rob Cohen', 'David Ayer', 'Tom Shadyac', 'Doug Liman', 'Kevin Reynolds', 'David Fincher', 'Francis Lawrence', 'Jon Turteltaub', 'Wolfgang Petersen', 'Michael Apted', 'Oliver Stone', 'Shawn Levy', 'George Miller', 'Ron Howard', 'Kenneth Branagh', 'Jonathan Liebesman', 'M. Night Shyamalan', 'Joe Wright', 'Rob Minkoff', 'Lee Tamahori', 'Edward Zwick', 'Alex Proyas', 'Richard Donner', 'Ang Lee', 'Jon M. Chu', 'Bill Condon', 'Louis Leterrier', 'Alejandro González Iñárritu', 'Paul Greengrass', 'Phillip Noyce', 'Darren Aronofsky', 'Chris Columbus', 'Robert Schwentke', 'Guy Ritchie', 'Paul Verhoeven', 'John Mctiernan', 'Joel Schumacher', 'John Woo', 'Tim Story', 'James Mangold', 'George Lucas', 'Roger Donaldson', 'Steven Soderbergh', 'Raja Gosnell', 'Jan De Bont', 'Frank Coraci', 'Michael Mann', 'Peter Chelsom', 'Tony Scott', 'Paul Weitz', 'Adam Mckay', 'Chuck Russell', 'Quentin Tarantino', 'Simon West', 'Peter Hyams', 'Tom Tykwer', 'Zhang Yimou', 'Frank Oz', 'Jay Roach', 'Luc Besson', 'Mark Waters', 'Renny Harlin', 'Ben Stiller', 'Dennis Dugan', 'Sydney Pollack', 'Brian De Palma', 'Paul W.S. Anderson', 'Nancy Meyers', 'Peter Segal', 'George A. Romero', 'Todd Phillips', 'Gary Winick', 'Adam Shankman', 'Les Mayfield', 'Ivan Reitman', 'Stephen Hopkins', 'Jonathan Demme', 'Terry Gilliam', 'Joe Dante', 'John Singleton', 'Mike Nichols', 'F. Gary Gray', 'Antoine Fuqua', 'Robert Luketic', 'Barry Levinson', 'Andy Tennant', 'Judd Apatow', 'Garry Marshall', 'Cameron Crowe', 'George Clooney', 'Andrzej Bartkowiak', 'Bobby Farrelly', 'Lawrence Kasdan', 'Clint Eastwood', 'Larry Charles', 'Stanley Kubrick', 'Taylor Hackford', 'Roman Polanski', 'Robert Rodriguez', 'Rob Reiner', 'Tim Hill', 'Robert Redford', 'Kenny Ortega', 'Brian Robbins', 'Brian Levant', 'David O. Russell', 'Jean Pierre Jeunet', 'Harold Ramis', 'Donald Petrie', 'Joel Coen', 'Rod Lurie', 'David Koepp', 'Uwe Boll', 'Stephen Herek', 'John Madden', 'Wayne Wang', 'John Frankenheimer', 'William Friedkin', 'Francis Ford Coppola', 'Richard Lester', 'Curtis Hanson', 'John Whitesell', 'Neil Jordan', 'Spike Lee', 'Brian Helgeland', 'Jaume Collet Serra', 'Andy Fickman', 'Gary Fleder', 'John Landis', 'Danny Boyle', 'Andrew Niccol', 'John Carpenter', 'Wes Anderson', 'David Cronenberg', 'David Gordon Green', 'Richard Lagravenese', 'Stephen Frears', 'David Zucker', 'David R. Ellis', 'David Lynch', 'Gus Van Sant', 'John Glen', 'Catherine Hardwicke', 'Anne Fletcher', 'Wes Craven', 'Nicholas Stoller', 'Stephen Daldry', 'Malcolm D. Lee', 'Norman Jewison', 'Steve Miner', 'Paul Thomas Anderson', 'Kirk Jones', 'Kevin Smith', 'Scott Hicks', 'Tobe Hooper', 'Lasse Hallström', 'Jason Reitman', 'Alexander Payne', 'Woody Allen', 'Jason Friedberg', \"Gavin O'Connor\", 'Miguel Arteta', 'Richard Linklater', 'Michael Winterbottom', 'Tyler Perry', 'Atom Egoyan', 'Sidney Lumet', 'Mira Nair', 'Mel Brooks', 'Alfred Hitchcock', 'Michael Moore', 'Mike Leigh', 'James Ivory', 'Brad Anderson', 'Michael Polish', 'Paul Schrader', 'Darren Lynn Bousman', 'Nicole Holofcener', 'Guy Hamilton', 'Fred Zinnemann', 'Frank Capra']   # freq>= 5\n",
    "director_list=['James Cameron', 'Gore Verbinski', 'Sam Mendes', 'Christopher Nolan', 'Sam Raimi', 'Zack Snyder', 'Bryan Singer', 'Marc Forster', 'Andrew Adamson', 'Rob Marshall', 'Barry Sonnenfeld', 'Peter Jackson', 'Ridley Scott', 'Chris Weitz', 'Peter Berg', 'Tim Burton', 'Brett Ratner', 'Michael Bay', 'Martin Campbell', 'Mcg', 'James Wan', 'Mike Newell', 'Guillermo Del Toro', 'Steven Spielberg', 'Justin Lin', 'Roland Emmerich', 'Robert Zemeckis', 'Lilly Wachowski', 'Jon Favreau', 'Martin Scorsese', 'Rob Cohen', 'David Ayer', 'Tom Shadyac', 'Doug Liman', 'Kevin Reynolds', 'David Fincher', 'Francis Lawrence', 'Jon Turteltaub', 'Wolfgang Petersen', 'Michael Apted', 'Oliver Stone', 'Shawn Levy', 'George Miller', 'Ron Howard', 'Kenneth Branagh', 'Jonathan Liebesman', 'M. Night Shyamalan', 'Joe Wright', 'Rob Minkoff', 'Lee Tamahori', 'Edward Zwick', 'Alex Proyas', 'Richard Donner', 'Ang Lee', 'Jon M. Chu', 'Bill Condon', 'Louis Leterrier', 'Alejandro González Iñárritu', 'Paul Greengrass', 'Phillip Noyce', 'Darren Aronofsky', 'Chris Columbus', 'Robert Schwentke', 'Guy Ritchie', 'Paul Verhoeven', 'John Mctiernan', 'Joel Schumacher', 'John Woo', 'Tim Story', 'James Mangold', 'George Lucas', 'Roger Donaldson', 'Steven Soderbergh', 'Raja Gosnell', 'Jan De Bont', 'Frank Coraci', 'Michael Mann', 'Peter Chelsom', 'Tony Scott', 'Paul Weitz', 'Adam Mckay', 'Chuck Russell', 'Quentin Tarantino', 'Simon West', 'Peter Hyams', 'Tom Tykwer', 'Zhang Yimou', 'Frank Oz', 'Jay Roach', 'Luc Besson', 'Mark Waters', 'Renny Harlin', 'Ben Stiller', 'Dennis Dugan', 'Sydney Pollack', 'Brian De Palma', 'Paul W.S. Anderson', 'Nancy Meyers', 'Peter Segal', 'George A. Romero', 'Todd Phillips', 'Gary Winick', 'Adam Shankman', 'Les Mayfield', 'Ivan Reitman', 'Stephen Hopkins', 'Jonathan Demme', 'Terry Gilliam', 'Joe Dante', 'John Singleton', 'Mike Nichols', 'F. Gary Gray', 'Antoine Fuqua', 'Robert Luketic', 'Barry Levinson', 'Andy Tennant', 'Judd Apatow', 'Garry Marshall', 'Cameron Crowe', 'George Clooney', 'Andrzej Bartkowiak', 'Bobby Farrelly', 'Lawrence Kasdan', 'Clint Eastwood', 'Larry Charles', 'Stanley Kubrick', 'Taylor Hackford', 'Roman Polanski', 'Robert Rodriguez', 'Rob Reiner', 'Tim Hill', 'Robert Redford', 'Kenny Ortega', 'Brian Robbins', 'Brian Levant', 'David O. Russell', 'Jean Pierre Jeunet', 'Harold Ramis', 'Donald Petrie', 'Joel Coen', 'Rod Lurie', 'David Koepp', 'Uwe Boll', 'Stephen Herek', 'John Madden', 'Wayne Wang', 'John Frankenheimer', 'William Friedkin', 'Francis Ford Coppola', 'Richard Lester', 'Curtis Hanson', 'John Whitesell', 'Neil Jordan', 'Spike Lee', 'Brian Helgeland', 'Jaume Collet Serra', 'Andy Fickman', 'Gary Fleder', 'John Landis', 'Danny Boyle', 'Andrew Niccol', 'John Carpenter', 'Wes Anderson', 'David Cronenberg', 'David Gordon Green', 'Richard Lagravenese', 'Stephen Frears', 'David Zucker', 'David R. Ellis', 'David Lynch', 'Gus Van Sant', 'John Glen', 'Catherine Hardwicke', 'Anne Fletcher', 'Wes Craven', 'Nicholas Stoller', 'Stephen Daldry', 'Malcolm D. Lee', 'Norman Jewison', 'Steve Miner', 'Paul Thomas Anderson', 'Kirk Jones', 'Kevin Smith', 'Scott Hicks', 'Tobe Hooper', 'Lasse Hallström', 'Jason Reitman', 'Alexander Payne', 'Woody Allen', 'Jason Friedberg', \"Gavin O'Connor\", 'Miguel Arteta', 'Richard Linklater', 'Michael Winterbottom', 'Tyler Perry', 'Atom Egoyan', 'Sidney Lumet', 'Mira Nair', 'Mel Brooks', 'Alfred Hitchcock', 'Michael Moore', 'Mike Leigh', 'James Ivory', 'Brad Anderson', 'Michael Polish', 'Paul Schrader', 'Darren Lynn Bousman', 'Nicole Holofcener', 'Guy Hamilton', 'Fred Zinnemann', 'Frank Capra']   # freq>= 5\n",
    "cast_list=['Zoe Saldana', 'Sigourney Weaver', 'Michelle Rodriguez', 'Johnny Depp', 'Orlando Bloom', 'Keira Knightley', 'Stellan Skarsgård', 'Daniel Craig', 'Ralph Fiennes', 'Christian Bale', 'Michael Caine', 'Gary Oldman', 'Anne Hathaway', 'Tom Hardy', 'Samantha Morton', 'Willem Dafoe', 'Thomas Haden Church', 'Tobey Maguire', 'Kirsten Dunst', 'James Franco', 'Mandy Moore', 'Ron Perlman', 'Robert Downey Jr.', 'Chris Hemsworth', 'Mark Ruffalo', 'Chris Evans', 'Scarlett Johansson', 'Emma Watson', 'Michael Gambon', 'Ben Affleck', 'Amy Adams', 'Jesse Eisenberg', 'Kevin Spacey', 'Kate Bosworth', 'James Marsden', 'Judi Dench', 'Bill Nighy', 'Helena Bonham Carter', 'Michael Shannon', 'Kevin Costner', 'Diane Lane', 'Penélope Cruz', 'Geoffrey Rush', 'Will Smith', 'Tommy Lee Jones', 'Josh Brolin', 'Emma Thompson', 'Ian Mckellen', 'Emma Stone', 'Russell Crowe', 'Cate Blanchett', 'Max Von Sydow', 'William Hurt', 'Mark Strong', 'Nicole Kidman', 'Sam Elliott', 'Naomi Watts', 'Jack Black', 'Adrien Brody', 'Kate Winslet', 'Leonardo Dicaprio', 'Kathy Bates', 'Anthony Mackie', \"Vincent D'Onofrio\", 'Javier Bardem', 'Alfred Molina', 'Gwyneth Paltrow', 'Don Cheadle', 'Guy Pearce', 'Hugh Jackman', 'Halle Berry', 'Patrick Stewart', 'Famke Janssen', 'Billy Crystal', 'John Goodman', 'Steve Buscemi', 'Helen Mirren', 'Shia Labeouf', 'Megan Fox', 'Tyrese Gibson', 'Mark Wahlberg', 'Stanley Tucci', 'Mila Kunis', 'Rachel Weisz', 'Michelle Williams', 'Jamie Foxx', 'Jeff Bridges', 'Olivia Wilde', 'Owen Wilson', 'Emily Mortimer', 'John Turturro', 'Ryan Reynolds', 'Peter Sarsgaard', 'Tim Robbins', 'Tom Hanks', 'Tim Allen', 'Joan Cusack', 'Michael Keaton', 'Anton Yelchin', 'Vin Diesel', 'Paul Walker', 'Dwayne Johnson', 'Brad Pitt', 'James Mcavoy', 'Michael Fassbender', 'Jennifer Lawrence', 'Chris Pine', 'Karl Urban', 'Simon Pegg', 'Ewan Mcgregor', 'Joel Edgerton', 'Jake Gyllenhaal', 'Ben Kingsley', 'Idris Elba', 'John Malkovich', 'Frances Mcdormand', 'Harrison Ford', 'Ray Winstone', 'Jeffrey Wright', 'Jackie Chan', 'John Cusack', 'Amanda Peet', 'Chiwetel Ejiofor', 'Thandie Newton', 'Oliver Platt', 'Jim Carrey', 'Channing Tatum', 'Sean Bean', 'Samuel L. Jackson', 'Djimon Hounsou', 'Liam Neeson', 'Heath Ledger', 'Aaron Eckhart', 'Maggie Gyllenhaal', 'Christopher Plummer', 'Delroy Lindo', 'Seth Rogen', 'Reese Witherspoon', 'Paul Rudd', 'Kiefer Sutherland', 'Terrence Howard', 'Chloë Grace Moretz', 'Kevin Kline', 'Kenneth Branagh', 'Salma Hayek', 'Brendan Fraser', 'Jet Li', 'Maria Bello', 'Viola Davis', 'Jared Leto', 'Steve Carell', 'Tom Cruise', 'Emily Blunt', 'Brendan Gleeson', 'Bill Paxton', 'Dennis Quaid', 'Joseph Gordon Levitt', 'Bill Hader', 'Bill Murray', 'Mickey Rourke', 'Kristen Stewart', 'Charlize Theron', 'Angelina Jolie', 'Josh Hartnett', 'Keanu Reeves', 'Robert Redford', 'Mike Myers', 'Eddie Murphy', 'Cameron Diaz', 'Antonio Banderas', 'Julie Andrews', 'George Clooney', 'John C. Reilly', 'Jeff Goldblum', 'Bill Pullman', 'Gerard Butler', 'Jonah Hill', 'Arnold Schwarzenegger', 'Claire Danes', 'Bradley Cooper', 'Matthew Mcconaughey', 'Jessica Chastain', 'Casey Affleck', 'Tilda Swinton', 'Kevin Bacon', 'Rose Byrne', 'Josh Hutcherson', 'Woody Harrelson', 'Elizabeth Banks', 'Nicolas Cage', 'Kurt Russell', 'Josh Lucas', 'Paula Patton', 'Ben Foster', 'J.K. Simmons', 'Kate Beckinsale', 'Cuba Gooding Jr.', 'Jon Voight', 'Colin Farrell', 'Val Kilmer', 'Jonathan Rhys Meyers', 'Jason Bateman', 'Ian Holm', 'Katie Holmes', 'Ben Stiller', 'Jada Pinkett Smith', 'Chris Rock', 'Cedric The Entertainer', 'Hank Azaria', 'Robin Williams', 'Liev Schreiber', 'Danny Huston', 'Laurence Fishburne', 'Carrie Anne Moss', 'Kristen Bell', 'Natalie Portman', 'Anthony Hopkins', 'John Travolta', 'Sam Rockwell', 'Michelle Pfeiffer', 'Jeremy Renner', 'Ving Rhames', 'Benicio Del Toro', 'Renée Zellweger', 'Matthew Broderick', 'Dustin Hoffman', 'Philip Seymour Hoffman', 'Billy Crudup', 'Richard Jenkins', 'Seth Green', 'Breckin Meyer', 'Jean Reno', 'Amanda Seyfried', 'Eric Bana', 'Brian Cox', 'Pierce Brosnan', 'Kristen Wiig', 'Bruce Willis', 'Billy Bob Thornton', 'Will Patton', 'Robin Wright', 'Alec Baldwin', 'Jude Law', 'Téa Leoni', 'Bruce Greenwood', 'Jessica Biel', 'Sam Shepard', 'Carla Gugino', 'Patrick Wilson', 'Mel Gibson', 'Danny Glover', 'Joe Pesci', 'Rene Russo', 'Jennifer Connelly', 'Nick Nolte', 'Steve Zahn', 'William H. Macy', 'Donald Sutherland', 'Paul Bettany', 'Elijah Wood', 'Edward Norton', 'Tim Roth', 'Paul Giamatti', 'Michael Peña', 'Luis Guzmán', 'Matt Damon', 'Julia Stiles', 'Scott Glenn', 'Paddy Considine', 'Lucy Liu', 'Michael Douglas', 'Steve Martin', 'Jennifer Lopez', 'Dakota Fanning', 'Martin Lawrence', 'Zach Galifianakis', 'Logan Lerman', 'David Thewlis', 'Hayden Panettiere', 'Will Ferrell', 'Leslie Mann', 'Andy García', 'Sharon Stone', 'Uma Thurman', 'Jessica Alba', 'Eva Mendes', 'Wes Bentley', 'Vincent Cassel', 'Drew Barrymore', 'Robert Patrick', 'Jodie Foster', 'Emile Hirsch', 'Christina Ricci', 'Susan Sarandon', 'Jack Nicholson', 'Morgan Freeman', 'Hayden Christensen', 'Catherine Keener', 'Will Arnett', 'Sandra Bullock', 'Ed Harris', 'Laura Linney', 'Kate Mara', 'Catherine Zeta Jones', 'Julia Roberts', 'Vince Vaughn', 'Kerry Washington', 'Jason Segel', 'Lena Headey', 'Abigail Breslin', 'Justin Long', 'Timothy Olyphant', 'Jim Broadbent', 'Kelly Preston', 'James Cromwell', 'Jeremy Irons', 'Jeff Daniels', 'Diane Keaton', 'Andie Macdowell', 'Giovanni Ribisi', 'Joaquin Phoenix', 'Michael Clarke Duncan', 'Kris Kristofferson', 'Denzel Washington', 'Jamie Lee Curtis', 'Robert De Niro', 'James Caan', 'Demi Moore', 'Sylvester Stallone', 'Jason Statham', 'Diane Kruger', 'James Gandolfini', \"Catherine O'Hara\", 'Gabriel Byrne', 'Kevin Pollak', 'Benjamin Bratt', 'John Hurt', 'Cillian Murphy', 'Rosario Dawson', 'Greg Kinnear', 'Zooey Deschanel', 'James Woods', 'Bette Midler', 'Glenn Close', 'Christopher Walken', 'Milla Jovovich', 'Sarah Jessica Parker', 'John Leguizamo', 'Seann William Scott', 'Viggo Mortensen', 'Julianne Moore', 'Sam Neill', 'John Lithgow', 'Holly Hunter', 'Jason Lee', 'James Remar', 'Anna Faris', 'Queen Latifah', 'Adam Scott', 'Martin Sheen', 'Rachel Mcadams', 'Adam Sandler', 'Kevin James', 'Elisabeth Shue', 'Sean Penn', 'Gary Sinise', 'Chris Cooper', 'Helen Hunt', 'Cary Elwes', 'Brittany Murphy', 'Vera Farmiga', 'Gene Hackman', 'Regina King', 'Meryl Streep', 'John Krasinski', 'Al Pacino', 'Ashton Kutcher', 'Joseph Fiennes', 'Bob Hoskins', 'Marcia Gay Harden', 'Elias Koteas', 'Anna Kendrick', 'Hilary Swank', 'Freddie Prinze Jr.', 'Sarah Michelle Gellar', 'Matthew Lillard', 'Christina Applegate', 'Michael Rooker', 'Selma Blair', 'Michael Rapaport', 'Jennifer Aniston', 'Danny Devito', 'William Shatner', 'Robert Duvall', 'Alan Arkin', 'Sissy Spacek', 'Joan Allen', 'Courteney Cox', 'Jennifer Jason Leigh', 'Paul Newman', 'Bruce Dern', 'Dan Aykroyd', 'Justin Timberlake', 'Patricia Arquette', 'Harvey Keitel', 'Annette Bening', 'Radha Mitchell', 'Barry Pepper', 'Forest Whitaker', 'Edward Burns', 'Vanessa Hudgens', 'Emily Watson', 'Jeremy Northam', 'Piper Perabo', 'Kevin Hart', 'Sean Connery', 'Clive Owen', 'David Morse', 'Emma Roberts', 'Ciarán Hinds', 'Katherine Heigl', 'Richard Gere', 'Jena Malone', 'John Heard', 'Kate Hudson', 'Jennifer Garner', 'Martin Landau', 'Tony Shalhoub', 'Maggie Smith', 'Chris Klein', 'Angela Bassett', 'Winona Ryder', 'Stephen Rea', 'Christian Slater', 'Minnie Driver', 'Charlotte Rampling', 'Jim Caviezel', 'Wesley Snipes', 'Colin Firth', 'Marisa Tomei', 'Thomas Jane', 'Meg Ryan', 'Mary Steenburgen', 'Juliette Lewis', 'Clint Eastwood', 'Charlie Sheen', 'Lisa Kudrow', 'Kristin Scott Thomas', 'Ray Liotta', 'Tyler Perry', 'Hugh Grant', 'Woody Allen', 'Eugene Levy', 'Morris Chestnut', 'Anthony Anderson', 'Melissa Leo', 'Toni Collette', 'Evan Rachel Wood', 'Ryan Gosling', 'Tom Wilkinson', 'Daryl Hannah', 'Christopher Lloyd', 'Kim Basinger', 'Ice Cube', 'Jason Biggs', 'Michael Angarano', 'David Koechner', 'Miranda Richardson', 'Matt Dillon', 'Patricia Clarkson', 'Ryan Phillippe', 'Lindsay Lohan', 'David Arquette', 'Anjelica Huston', 'Chazz Palminteri', 'Whoopi Goldberg', 'Amy Smart', 'Dermot Mulroney', 'Paul Dano', 'Ethan Hawke', 'Mike Epps', 'Zac Efron', 'Ashley Judd', 'Dennis Hopper', 'Neve Campbell', 'Nia Long', 'Rachael Leigh Cook', 'Jean Claude Van Damme', 'Luke Wilson', 'Michael Sheen', 'Ellen Burstyn', 'Hope Davis', 'Donald Faison', 'Taye Diggs']     # freq>= 15\n",
    "genre_list=['Action', 'Adventure', 'Fantasy', 'Science Fiction', 'Crime', 'Drama', 'Thriller', 'Animation', 'Family', 'Western', 'Comedy', 'Romance', 'Horror', 'Mystery', 'History', 'War', 'Music', 'Documentary', 'Foreign', 'Tv Movie']\n",
    "\n",
    "## use sorted(list)"
   ]
  },
  {
   "cell_type": "code",
   "execution_count": 423,
   "metadata": {},
   "outputs": [
    {
     "data": {
      "text/plain": [
       "movie_id\n",
       "246655                                  X-Men: Apocalypse\n",
       "10048                                             Stealth\n",
       "8619      Master and Commander: The Far Side of the World\n",
       "2067                                      Mission to Mars\n",
       "8452                                          The 6th Day\n",
       "10153                                              Sphere\n",
       "2119                                      Days of Thunder\n",
       "294254                     Maze Runner: The Scorch Trials\n",
       "8367                        Robin Hood: Prince of Thieves\n",
       "27573                                   The Bounty Hunter\n",
       "9096                                         Medicine Man\n",
       "3604                                         Flash Gordon\n",
       "1428                           Once Upon a Time in Mexico\n",
       "335778                                              Risen\n",
       "10448                                            Rapa Nui\n",
       "24227                                     Excessive Force\n",
       "12837                             The Secret Life of Bees\n",
       "31909                                  Invaders from Mars\n",
       "42684                                             Skyline\n",
       "8069                                           Barbarella\n",
       "385736                                              Kicks\n",
       "15797                                     Only the Strong\n",
       "540                                              D.E.B.S.\n",
       "11690                                          Bloodsport\n",
       "360188                                         Queen Crab\n",
       "Name: title, dtype: object"
      ]
     },
     "execution_count": 423,
     "metadata": {},
     "output_type": "execute_result"
    }
   ],
   "source": [
    "genre=[\"Action\",\"Adventure\",\"Science Fiction\"]\n",
    "director=[\"James Cameron\"]\n",
    "producer=[\"James Cameron\"]\n",
    "spoken_language=[\"English\"]\n",
    "production_company=[\"Ingenious Film Partners\"]\n",
    "production_country=[\"United States Of America\"]\n",
    "lang=[\"en\"]\n",
    "cast=[\"Zoe Saldana\"]\n",
    "\n",
    "\n",
    "data[\"title\"].loc[data['genres'].isin(genre) & data['original_language'].isin(lang)  & data['production_countries'].isin(production_country)]\n",
    "# \n",
    "#& data['director'].isin(director) & data['producer'].isin(producer) & data['production_companies'].isin(production_company) \n",
    "# data['cast'].isin(cast)"
   ]
  },
  {
   "cell_type": "code",
   "execution_count": 419,
   "metadata": {},
   "outputs": [
    {
     "data": {
      "text/plain": [
       "movie_id\n",
       "246655                                  X-Men: Apocalypse\n",
       "10048                                             Stealth\n",
       "8619      Master and Commander: The Far Side of the World\n",
       "2067                                      Mission to Mars\n",
       "8452                                          The 6th Day\n",
       "10153                                              Sphere\n",
       "2119                                      Days of Thunder\n",
       "294254                     Maze Runner: The Scorch Trials\n",
       "8367                        Robin Hood: Prince of Thieves\n",
       "27573                                   The Bounty Hunter\n",
       "9096                                         Medicine Man\n",
       "3604                                         Flash Gordon\n",
       "1428                           Once Upon a Time in Mexico\n",
       "335778                                              Risen\n",
       "10448                                            Rapa Nui\n",
       "24227                                     Excessive Force\n",
       "12837                             The Secret Life of Bees\n",
       "31909                                  Invaders from Mars\n",
       "42684                                             Skyline\n",
       "8069                                           Barbarella\n",
       "385736                                              Kicks\n",
       "15797                                     Only the Strong\n",
       "540                                              D.E.B.S.\n",
       "11690                                          Bloodsport\n",
       "360188                                         Queen Crab\n",
       "Name: title, dtype: object"
      ]
     },
     "execution_count": 419,
     "metadata": {},
     "output_type": "execute_result"
    }
   ],
   "source": [
    "data[\"title\"].loc[data['genres'].isin(genre) & data['original_language'].isin(lang)  & data['production_countries'].isin(production_country)]"
   ]
  },
  {
   "cell_type": "code",
   "execution_count": 424,
   "metadata": {},
   "outputs": [
    {
     "data": {
      "text/html": [
       "<div>\n",
       "<style scoped>\n",
       "    .dataframe tbody tr th:only-of-type {\n",
       "        vertical-align: middle;\n",
       "    }\n",
       "\n",
       "    .dataframe tbody tr th {\n",
       "        vertical-align: top;\n",
       "    }\n",
       "\n",
       "    .dataframe thead th {\n",
       "        text-align: right;\n",
       "    }\n",
       "</style>\n",
       "<table border=\"1\" class=\"dataframe\">\n",
       "  <thead>\n",
       "    <tr style=\"text-align: right;\">\n",
       "      <th></th>\n",
       "      <th>budget (in Million)</th>\n",
       "      <th>original_language</th>\n",
       "      <th>runtime</th>\n",
       "      <th>title</th>\n",
       "      <th>rating</th>\n",
       "      <th>keywords</th>\n",
       "      <th>genres</th>\n",
       "      <th>cast</th>\n",
       "      <th>director</th>\n",
       "      <th>producer</th>\n",
       "      <th>spoken_languages</th>\n",
       "      <th>production_companies</th>\n",
       "      <th>production_countries</th>\n",
       "    </tr>\n",
       "    <tr>\n",
       "      <th>movie_id</th>\n",
       "      <th></th>\n",
       "      <th></th>\n",
       "      <th></th>\n",
       "      <th></th>\n",
       "      <th></th>\n",
       "      <th></th>\n",
       "      <th></th>\n",
       "      <th></th>\n",
       "      <th></th>\n",
       "      <th></th>\n",
       "      <th></th>\n",
       "      <th></th>\n",
       "      <th></th>\n",
       "    </tr>\n",
       "  </thead>\n",
       "  <tbody>\n",
       "    <tr>\n",
       "      <th>19995</th>\n",
       "      <td>237</td>\n",
       "      <td>en</td>\n",
       "      <td>162.0</td>\n",
       "      <td>Avatar</td>\n",
       "      <td>7.3</td>\n",
       "      <td>Culture Clash,Future,Space War,Space Colony,So...</td>\n",
       "      <td>Action,Adventure,Fantasy,Science Fiction</td>\n",
       "      <td>Sam Worthington,Zoe Saldana,Sigourney Weaver,S...</td>\n",
       "      <td>James Cameron</td>\n",
       "      <td>James Cameron</td>\n",
       "      <td>English,Español</td>\n",
       "      <td>Ingenious Film Partners,Twentieth Century Fox ...</td>\n",
       "      <td>United States Of America,United Kingdom</td>\n",
       "    </tr>\n",
       "    <tr>\n",
       "      <th>285</th>\n",
       "      <td>300</td>\n",
       "      <td>en</td>\n",
       "      <td>169.0</td>\n",
       "      <td>Pirates of the Caribbean: At World's End</td>\n",
       "      <td>7.0</td>\n",
       "      <td>Ocean,Drug Abuse,Exotic Island,East India Trad...</td>\n",
       "      <td>Adventure,Fantasy,Action</td>\n",
       "      <td>Johnny Depp,Orlando Bloom,Keira Knightley,Stel...</td>\n",
       "      <td>Gore Verbinski</td>\n",
       "      <td>Jerry Bruckheimer</td>\n",
       "      <td>English</td>\n",
       "      <td>Walt Disney Pictures,Jerry Bruckheimer Films</td>\n",
       "      <td>United States Of America</td>\n",
       "    </tr>\n",
       "    <tr>\n",
       "      <th>206647</th>\n",
       "      <td>245</td>\n",
       "      <td>en</td>\n",
       "      <td>148.0</td>\n",
       "      <td>Spectre</td>\n",
       "      <td>6.3</td>\n",
       "      <td>Spy,Based On Novel,Secret Agent,Sequel,Mi6,Bri...</td>\n",
       "      <td>Action,Adventure,Crime</td>\n",
       "      <td>Daniel Craig,Christoph Waltz,Léa Seydoux,Ralph...</td>\n",
       "      <td>Sam Mendes</td>\n",
       "      <td>Barbara Broccoli</td>\n",
       "      <td>Français,English,Español,Italiano,Deutsch</td>\n",
       "      <td>Columbia Pictures,Danjaq</td>\n",
       "      <td>United Kingdom,United States Of America</td>\n",
       "    </tr>\n",
       "    <tr>\n",
       "      <th>49026</th>\n",
       "      <td>250</td>\n",
       "      <td>en</td>\n",
       "      <td>165.0</td>\n",
       "      <td>The Dark Knight Rises</td>\n",
       "      <td>7.7</td>\n",
       "      <td>Dc Comics,Crime Fighter,Terrorist,Secret Ident...</td>\n",
       "      <td>Action,Crime,Drama,Thriller</td>\n",
       "      <td>Christian Bale,Michael Caine,Gary Oldman,Anne ...</td>\n",
       "      <td>Christopher Nolan</td>\n",
       "      <td>Charles Roven</td>\n",
       "      <td>English</td>\n",
       "      <td>Legendary Pictures,Warner Bros.</td>\n",
       "      <td>United States Of America</td>\n",
       "    </tr>\n",
       "    <tr>\n",
       "      <th>49529</th>\n",
       "      <td>260</td>\n",
       "      <td>en</td>\n",
       "      <td>132.0</td>\n",
       "      <td>John Carter</td>\n",
       "      <td>6.1</td>\n",
       "      <td>Based On Novel,Mars,Medallion,Space Travel,Pri...</td>\n",
       "      <td>Action,Adventure,Science Fiction</td>\n",
       "      <td>Taylor Kitsch,Lynn Collins,Samantha Morton,Wil...</td>\n",
       "      <td>Andrew Stanton</td>\n",
       "      <td>Colin Wilson</td>\n",
       "      <td>English</td>\n",
       "      <td>Walt Disney Pictures</td>\n",
       "      <td>United States Of America</td>\n",
       "    </tr>\n",
       "  </tbody>\n",
       "</table>\n",
       "</div>"
      ],
      "text/plain": [
       "          budget (in Million) original_language  runtime  \\\n",
       "movie_id                                                   \n",
       "19995                     237                en    162.0   \n",
       "285                       300                en    169.0   \n",
       "206647                    245                en    148.0   \n",
       "49026                     250                en    165.0   \n",
       "49529                     260                en    132.0   \n",
       "\n",
       "                                             title  rating  \\\n",
       "movie_id                                                     \n",
       "19995                                       Avatar     7.3   \n",
       "285       Pirates of the Caribbean: At World's End     7.0   \n",
       "206647                                     Spectre     6.3   \n",
       "49026                        The Dark Knight Rises     7.7   \n",
       "49529                                  John Carter     6.1   \n",
       "\n",
       "                                                   keywords  \\\n",
       "movie_id                                                      \n",
       "19995     Culture Clash,Future,Space War,Space Colony,So...   \n",
       "285       Ocean,Drug Abuse,Exotic Island,East India Trad...   \n",
       "206647    Spy,Based On Novel,Secret Agent,Sequel,Mi6,Bri...   \n",
       "49026     Dc Comics,Crime Fighter,Terrorist,Secret Ident...   \n",
       "49529     Based On Novel,Mars,Medallion,Space Travel,Pri...   \n",
       "\n",
       "                                            genres  \\\n",
       "movie_id                                             \n",
       "19995     Action,Adventure,Fantasy,Science Fiction   \n",
       "285                       Adventure,Fantasy,Action   \n",
       "206647                      Action,Adventure,Crime   \n",
       "49026                  Action,Crime,Drama,Thriller   \n",
       "49529             Action,Adventure,Science Fiction   \n",
       "\n",
       "                                                       cast  \\\n",
       "movie_id                                                      \n",
       "19995     Sam Worthington,Zoe Saldana,Sigourney Weaver,S...   \n",
       "285       Johnny Depp,Orlando Bloom,Keira Knightley,Stel...   \n",
       "206647    Daniel Craig,Christoph Waltz,Léa Seydoux,Ralph...   \n",
       "49026     Christian Bale,Michael Caine,Gary Oldman,Anne ...   \n",
       "49529     Taylor Kitsch,Lynn Collins,Samantha Morton,Wil...   \n",
       "\n",
       "                   director           producer  \\\n",
       "movie_id                                         \n",
       "19995         James Cameron      James Cameron   \n",
       "285          Gore Verbinski  Jerry Bruckheimer   \n",
       "206647           Sam Mendes   Barbara Broccoli   \n",
       "49026     Christopher Nolan      Charles Roven   \n",
       "49529        Andrew Stanton       Colin Wilson   \n",
       "\n",
       "                                   spoken_languages  \\\n",
       "movie_id                                              \n",
       "19995                               English,Español   \n",
       "285                                         English   \n",
       "206647    Français,English,Español,Italiano,Deutsch   \n",
       "49026                                       English   \n",
       "49529                                       English   \n",
       "\n",
       "                                       production_companies  \\\n",
       "movie_id                                                      \n",
       "19995     Ingenious Film Partners,Twentieth Century Fox ...   \n",
       "285            Walt Disney Pictures,Jerry Bruckheimer Films   \n",
       "206647                             Columbia Pictures,Danjaq   \n",
       "49026                       Legendary Pictures,Warner Bros.   \n",
       "49529                                  Walt Disney Pictures   \n",
       "\n",
       "                             production_countries  \n",
       "movie_id                                           \n",
       "19995     United States Of America,United Kingdom  \n",
       "285                      United States Of America  \n",
       "206647    United Kingdom,United States Of America  \n",
       "49026                    United States Of America  \n",
       "49529                    United States Of America  "
      ]
     },
     "execution_count": 424,
     "metadata": {},
     "output_type": "execute_result"
    }
   ],
   "source": [
    "data.head()"
   ]
  },
  {
   "cell_type": "code",
   "execution_count": 435,
   "metadata": {},
   "outputs": [],
   "source": [
    "data.to_csv(r\"D:\\Projects\\Content-Based_Movie_Recommendation_System-main\\Backend\\Data\\data_for_filtering.csv\",index=True,na_rep='Unknown')"
   ]
  },
  {
   "cell_type": "code",
   "execution_count": 437,
   "metadata": {},
   "outputs": [
    {
     "data": {
      "text/plain": [
       "movie_id                   0\n",
       "budget (in Million)        0\n",
       "original_language          0\n",
       "runtime                    0\n",
       "title                      0\n",
       "rating                     0\n",
       "keywords                 412\n",
       "genres                    28\n",
       "cast                      43\n",
       "director                  30\n",
       "producer                1023\n",
       "spoken_languages          87\n",
       "production_companies     352\n",
       "production_countries     174\n",
       "dtype: int64"
      ]
     },
     "execution_count": 437,
     "metadata": {},
     "output_type": "execute_result"
    }
   ],
   "source": [
    "df=pd.read_csv(r\"D:\\Projects\\Content-Based_Movie_Recommendation_System-main\\Backend\\Data\\data_for_filtering.csv\")\n",
    "df.head()\n",
    "df.isna().sum()"
   ]
  },
  {
   "cell_type": "code",
   "execution_count": 438,
   "metadata": {},
   "outputs": [
    {
     "name": "stdout",
     "output_type": "stream",
     "text": [
      "                    Name  Rating                       Genres  \\\n",
      "0  The Dark Knight Rises     7.7  Action,Crime,Drama,Thriller   \n",
      "\n",
      "                                                Cast           Director  \\\n",
      "0  Christian Bale,Michael Caine,Gary Oldman,Anne ...  Christopher Nolan   \n",
      "\n",
      "        Producer       Budget Lang  Runtime Spoken_languages  \\\n",
      "0  Charles Roven  250 Million   en      165          English   \n",
      "\n",
      "   Production_company        Production_Country  \n",
      "0  Legendary Pictures  United States Of America  \n"
     ]
    }
   ],
   "source": [
    "def get_movie_details_from_id(id):\n",
    "    \"\"\" Takes Movie-ID & returns dataframe of all available details of that movie \"\"\"\n",
    "\n",
    "    df=df.loc[id]\n",
    "    dictionary={}\n",
    " \n",
    "    dictionary[\"Name\"]=df['title']\n",
    "    dictionary[\"Rating\"]=df['rating']\n",
    "    dictionary[\"Genres\"]=df['genres']\n",
    "    dictionary[\"Cast\"]=df['cast']\n",
    "    dictionary[\"Director\"]=df['director']\n",
    "    dictionary[\"Producer\"]=df['producer']\n",
    "    dictionary[\"Budget\"]=str(int(df[\"budget (in Million)\"]))+\" Million\"\n",
    "    dictionary[\"Lang\"]=df['original_language']\n",
    "    dictionary[\"Runtime\"]=int(df['runtime'])\n",
    "    dictionary[\"Spoken_languages\"]=df['spoken_languages']\n",
    "    dictionary[\"Production_company\"]=df['production_companies'].split(\",\")[0]\n",
    "    dictionary[\"Production_Country\"]=df['production_countries'].split(\",\")[0]\n",
    "\n",
    "    return pd.DataFrame([dictionary])\n",
    "##\n",
    "details_df=get_movie_details_from_id(49026)\n",
    "details_df\n",
    "#print(details_df)"
   ]
  },
  {
   "cell_type": "code",
   "execution_count": null,
   "metadata": {},
   "outputs": [],
   "source": []
  }
 ],
 "metadata": {
  "interpreter": {
   "hash": "81f571d391f91054c10517f88af1e4dd52c90d047d62f7eae0b02ba4c063c480"
  },
  "kernelspec": {
   "display_name": "Python 3.8.8 ('base')",
   "language": "python",
   "name": "python3"
  },
  "language_info": {
   "codemirror_mode": {
    "name": "ipython",
    "version": 3
   },
   "file_extension": ".py",
   "mimetype": "text/x-python",
   "name": "python",
   "nbconvert_exporter": "python",
   "pygments_lexer": "ipython3",
   "version": "3.8.8"
  }
 },
 "nbformat": 4,
 "nbformat_minor": 4
}
