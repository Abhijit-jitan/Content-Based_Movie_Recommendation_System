{
 "cells": [
  {
   "cell_type": "markdown",
   "metadata": {},
   "source": [
    "## Loading Libraries"
   ]
  },
  {
   "cell_type": "code",
   "execution_count": 1,
   "metadata": {
    "execution": {
     "iopub.execute_input": "2022-01-18T14:40:35.358075Z",
     "iopub.status.busy": "2022-01-18T14:40:35.357522Z",
     "iopub.status.idle": "2022-01-18T14:40:36.657195Z",
     "shell.execute_reply": "2022-01-18T14:40:36.656460Z",
     "shell.execute_reply.started": "2022-01-18T14:40:35.357977Z"
    }
   },
   "outputs": [],
   "source": [
    "import pandas as pd\n",
    "import numpy as np"
   ]
  },
  {
   "cell_type": "markdown",
   "metadata": {},
   "source": [
    "## Loading Preprocessed data"
   ]
  },
  {
   "cell_type": "code",
   "execution_count": 2,
   "metadata": {},
   "outputs": [
    {
     "data": {
      "text/plain": [
       "Index(['movie_id', 'title', 'tags'], dtype='object')"
      ]
     },
     "execution_count": 2,
     "metadata": {},
     "output_type": "execute_result"
    }
   ],
   "source": [
    "movie_data=pd.read_csv(r\"D:\\Projects\\Content-Based_Movie_Recommendation_System-main\\Backend\\Data\\processed_data_for_movie_recommendation.csv\")\n",
    "\n",
    "movie_data.head()\n",
    "movie_data.shape    # (4809, 3)\n",
    "movie_data.isna().sum() # 0\n",
    "movie_data.columns"
   ]
  },
  {
   "cell_type": "markdown",
   "metadata": {},
   "source": [
    "## Recommender System"
   ]
  },
  {
   "cell_type": "markdown",
   "metadata": {},
   "source": [
    "### Make a Word-dictionary"
   ]
  },
  {
   "cell_type": "code",
   "execution_count": 3,
   "metadata": {
    "execution": {
     "iopub.execute_input": "2022-01-18T14:45:44.060363Z",
     "iopub.status.busy": "2022-01-18T14:45:44.059811Z",
     "iopub.status.idle": "2022-01-18T14:45:44.587423Z",
     "shell.execute_reply": "2022-01-18T14:45:44.586702Z",
     "shell.execute_reply.started": "2022-01-18T14:45:44.060324Z"
    }
   },
   "outputs": [],
   "source": [
    "## Using Count_vectorizer\n",
    "\n",
    "# from sklearn.feature_extraction.text import CountVectorizer\n",
    "# cv=CountVectorizer(max_features=10000)\n",
    "# word_vectors=cv.fit_transform(movie_data[\"tags\"]).toarray()\n",
    "# cv.get_feature_names()"
   ]
  },
  {
   "cell_type": "code",
   "execution_count": 4,
   "metadata": {
    "execution": {
     "iopub.execute_input": "2022-01-18T14:49:01.094332Z",
     "iopub.status.busy": "2022-01-18T14:49:01.093677Z",
     "iopub.status.idle": "2022-01-18T14:49:02.307067Z",
     "shell.execute_reply": "2022-01-18T14:49:02.306319Z",
     "shell.execute_reply.started": "2022-01-18T14:49:01.094295Z"
    }
   },
   "outputs": [],
   "source": [
    "## Using TFIDF\n",
    "\n",
    "from sklearn.feature_extraction.text import TfidfVectorizer\n",
    "tfidf=TfidfVectorizer()\n",
    "word_vector=tfidf.fit_transform(movie_data[\"tags\"]).toarray()      # Convert words to arr[vectors]\n",
    "\n",
    "word=tfidf.get_feature_names()\n",
    "#word                                                              # 33313 of word dictionary"
   ]
  },
  {
   "cell_type": "markdown",
   "metadata": {},
   "source": [
    "### Calculating Similarity or distance-metrics\n",
    "* Here we need to calculate similarity of each movie with rest of movies\n",
    "* In High-Dimensional Space \"Eucleadian Distance\" is not a good measure so we are using \"Cosine Similarity\""
   ]
  },
  {
   "cell_type": "code",
   "execution_count": 10,
   "metadata": {
    "execution": {
     "iopub.execute_input": "2022-01-18T14:49:04.609996Z",
     "iopub.status.busy": "2022-01-18T14:49:04.609667Z",
     "iopub.status.idle": "2022-01-18T14:49:19.430801Z",
     "shell.execute_reply": "2022-01-18T14:49:19.429970Z",
     "shell.execute_reply.started": "2022-01-18T14:49:04.609956Z"
    }
   },
   "outputs": [
    {
     "data": {
      "text/plain": [
       "array([[1.  , 0.02, 0.03, ..., 0.02, 0.02, 0.  ],\n",
       "       [0.02, 1.  , 0.02, ..., 0.02, 0.  , 0.01],\n",
       "       [0.03, 0.02, 1.  , ..., 0.02, 0.04, 0.  ],\n",
       "       ...,\n",
       "       [0.02, 0.02, 0.02, ..., 1.  , 0.01, 0.03],\n",
       "       [0.02, 0.  , 0.04, ..., 0.01, 1.  , 0.01],\n",
       "       [0.  , 0.01, 0.  , ..., 0.03, 0.01, 1.  ]])"
      ]
     },
     "execution_count": 10,
     "metadata": {},
     "output_type": "execute_result"
    }
   ],
   "source": [
    "from sklearn.metrics.pairwise import cosine_similarity\n",
    "\n",
    "similarity_matrix=cosine_similarity(word_vector)            # cosine_similarity(word_vector)  # creates a matrix containing matrix of \"similarity_score\" of each movies with each other\n",
    "similarity_matrix=np.round_(similarity_matrix,decimals=2)   # round-up to 2 decimal point\n",
    "similarity_matrix.shape                                     # (4809, 4809)\n",
    "similarity_matrix"
   ]
  },
  {
   "cell_type": "code",
   "execution_count": 11,
   "metadata": {},
   "outputs": [],
   "source": [
    " # write similarity matrix to npy file\n",
    "np.save(r'D:\\Projects\\Content-Based_Movie_Recommendation_System-main\\Backend\\Data\\movies_similarity_matrix.npy',similarity_matrix) "
   ]
  },
  {
   "cell_type": "markdown",
   "metadata": {},
   "source": [
    "### Recommendation Engine"
   ]
  },
  {
   "cell_type": "code",
   "execution_count": 17,
   "metadata": {},
   "outputs": [],
   "source": [
    "import pandas as pd\n",
    "import numpy as np\n",
    "\n",
    "data=pd.read_csv(r\"D:\\Projects\\Content-Based_Movie_Recommendation_System-main\\Backend\\Data\\movie_recommendation_data.csv\")          # load (Movie-ID,title) data\n",
    "similarity_matrix=np.load(r\"D:\\Projects\\Content-Based_Movie_Recommendation_System-main\\Backend\\Data\\movies_similarity_matrix.npy\")  # load similarity matrix"
   ]
  },
  {
   "cell_type": "code",
   "execution_count": 19,
   "metadata": {},
   "outputs": [],
   "source": [
    "def recommend(movie_name):\n",
    "    \"\"\" Takes A movie name & Returns Top-3 similar list(\"movie_Id\",\"movie_title\",\"similarity) \"\"\"\n",
    "    Recommended_movies = []\n",
    "\n",
    "    movie_index=data[data[\"title\"]==(movie_name)].index[0]                                   # return movie_Id from movie name\n",
    "    similarity=similarity_matrix[movie_index]\n",
    "    recommend_movies=sorted(list(enumerate(similarity)),reverse=True,key=lambda x:x[1])[1:4] # return top-3 most similar(movie_Id,similarity_matrix)\n",
    "    for movie in recommend_movies:\n",
    "        Recommended_movies.append([movie[0],data.iloc[movie[0]].title,round(movie[1],2)])\n",
    "    \n",
    "    return Recommended_movies\n",
    "\n",
    "# movies=recommend(\"Pirates of the Caribbean: On Stranger Tides\")\n",
    "# movies=recommend(\"Furious 7\")\n",
    "# for movie in movies:\n",
    "#     print(\"ID:{} - {} ;Similarity'{}'\".format(movie[0],movie[1],movie[2]))"
   ]
  },
  {
   "cell_type": "code",
   "execution_count": 21,
   "metadata": {
    "execution": {
     "iopub.execute_input": "2022-01-18T15:29:32.256763Z",
     "iopub.status.busy": "2022-01-18T15:29:32.255973Z",
     "iopub.status.idle": "2022-01-18T15:29:32.275022Z",
     "shell.execute_reply": "2022-01-18T15:29:32.274096Z",
     "shell.execute_reply.started": "2022-01-18T15:29:32.256708Z"
    }
   },
   "outputs": [
    {
     "name": "stdout",
     "output_type": "stream",
     "text": [
      "ID:99 - The Fast and the Furious ;Similarity':0.33'\n",
      "ID:204 - Fast Five ;Similarity':0.29'\n",
      "ID:405 - The Fast and the Furious: Tokyo Drift ;Similarity':0.23'\n"
     ]
    }
   ],
   "source": [
    "## Predict Your Next Movie\n",
    "recommend(\"Avatar\")\n",
    "recommend(\"The Avengers\")\n",
    "recommend(\"Titanic\")\n",
    "recommend(\"Toy Story 3\")\n",
    "recommend(\"Furious 7\")\n",
    "recommend(\"World War Z\")\n",
    "\n",
    "movies=recommend(\"Furious 7\")\n",
    "for movie in movies:\n",
    "    print(\"ID:{} - {} ;Similarity':{}'\".format(movie[0],movie[1],movie[2]))\n"
   ]
  },
  {
   "cell_type": "code",
   "execution_count": 16,
   "metadata": {},
   "outputs": [],
   "source": [
    "## For Movie recommendation we only require data(movie-ID,title) & similarity-matrix.npy\n",
    "df=movie_data[['movie_id','title']]\n",
    "df.to_csv(r\"D:\\Projects\\Content-Based_Movie_Recommendation_System-main\\Backend\\Data\\movie_recommendation_data.csv\",index=False)"
   ]
  },
  {
   "cell_type": "code",
   "execution_count": null,
   "metadata": {},
   "outputs": [],
   "source": []
  }
 ],
 "metadata": {
  "interpreter": {
   "hash": "81f571d391f91054c10517f88af1e4dd52c90d047d62f7eae0b02ba4c063c480"
  },
  "kernelspec": {
   "display_name": "Python 3.8.8 ('base')",
   "language": "python",
   "name": "python3"
  },
  "language_info": {
   "codemirror_mode": {
    "name": "ipython",
    "version": 3
   },
   "file_extension": ".py",
   "mimetype": "text/x-python",
   "name": "python",
   "nbconvert_exporter": "python",
   "pygments_lexer": "ipython3",
   "version": "3.8.8"
  }
 },
 "nbformat": 4,
 "nbformat_minor": 4
}
