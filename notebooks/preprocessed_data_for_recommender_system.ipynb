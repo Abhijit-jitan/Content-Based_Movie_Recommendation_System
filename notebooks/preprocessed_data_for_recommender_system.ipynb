{
 "cells": [
  {
   "cell_type": "markdown",
   "metadata": {},
   "source": [
    "## Loading Libraries"
   ]
  },
  {
   "cell_type": "code",
   "execution_count": 2,
   "metadata": {
    "execution": {
     "iopub.execute_input": "2022-01-18T14:40:35.358075Z",
     "iopub.status.busy": "2022-01-18T14:40:35.357522Z",
     "iopub.status.idle": "2022-01-18T14:40:36.657195Z",
     "shell.execute_reply": "2022-01-18T14:40:36.656460Z",
     "shell.execute_reply.started": "2022-01-18T14:40:35.357977Z"
    }
   },
   "outputs": [],
   "source": [
    "import pandas as pd\n",
    "import numpy as np"
   ]
  },
  {
   "cell_type": "markdown",
   "metadata": {},
   "source": [
    "## Loading Preprocessed data"
   ]
  },
  {
   "cell_type": "code",
   "execution_count": 49,
   "metadata": {},
   "outputs": [
    {
     "data": {
      "text/plain": [
       "Index(['movie_id', 'title', 'tags'], dtype='object')"
      ]
     },
     "execution_count": 49,
     "metadata": {},
     "output_type": "execute_result"
    }
   ],
   "source": [
    "movie_data=pd.read_csv(r\"D:\\Projects\\Content-Based_Movie_Recommendation_System-main\\Backend\\Data\\processed_movie_data.csv\")\n",
    "\n",
    "movie_data.head()\n",
    "movie_data.shape    # (4809, 3)\n",
    "movie_data.isna().sum() # 0\n",
    "movie_data.columns"
   ]
  },
  {
   "cell_type": "markdown",
   "metadata": {},
   "source": [
    "## Recommender System"
   ]
  },
  {
   "cell_type": "markdown",
   "metadata": {},
   "source": [
    "### Make a Word-dictionary"
   ]
  },
  {
   "cell_type": "code",
   "execution_count": 19,
   "metadata": {
    "execution": {
     "iopub.execute_input": "2022-01-18T14:45:44.060363Z",
     "iopub.status.busy": "2022-01-18T14:45:44.059811Z",
     "iopub.status.idle": "2022-01-18T14:45:44.587423Z",
     "shell.execute_reply": "2022-01-18T14:45:44.586702Z",
     "shell.execute_reply.started": "2022-01-18T14:45:44.060324Z"
    }
   },
   "outputs": [],
   "source": [
    "## Using Count_vectorizer\n",
    "\n",
    "# from sklearn.feature_extraction.text import CountVectorizer\n",
    "# cv=CountVectorizer(max_features=10000)\n",
    "# word_vectors=cv.fit_transform(movie_data[\"tags\"]).toarray()\n",
    "# cv.get_feature_names()"
   ]
  },
  {
   "cell_type": "code",
   "execution_count": 54,
   "metadata": {
    "execution": {
     "iopub.execute_input": "2022-01-18T14:49:01.094332Z",
     "iopub.status.busy": "2022-01-18T14:49:01.093677Z",
     "iopub.status.idle": "2022-01-18T14:49:02.307067Z",
     "shell.execute_reply": "2022-01-18T14:49:02.306319Z",
     "shell.execute_reply.started": "2022-01-18T14:49:01.094295Z"
    }
   },
   "outputs": [],
   "source": [
    "## Using TFIDF\n",
    "\n",
    "from sklearn.feature_extraction.text import TfidfVectorizer\n",
    "tfidf=TfidfVectorizer()\n",
    "word_vector=tfidf.fit_transform(movie_data[\"tags\"]).toarray()      # Convert words to arr[vectors]\n",
    "\n",
    "word=tfidf.get_feature_names()\n",
    "#word                                                              # 33313 of word dictionary"
   ]
  },
  {
   "cell_type": "markdown",
   "metadata": {},
   "source": [
    "### Calculating Similarity or distance-metrics\n",
    "* Here we need to calculate similarity of each movie with rest of movies\n",
    "* In High-Dimensional Space \"Eucleadian Distance\" is not a good measure so we are using \"Cosine Similarity\""
   ]
  },
  {
   "cell_type": "code",
   "execution_count": 55,
   "metadata": {
    "execution": {
     "iopub.execute_input": "2022-01-18T14:49:04.609996Z",
     "iopub.status.busy": "2022-01-18T14:49:04.609667Z",
     "iopub.status.idle": "2022-01-18T14:49:19.430801Z",
     "shell.execute_reply": "2022-01-18T14:49:19.429970Z",
     "shell.execute_reply.started": "2022-01-18T14:49:04.609956Z"
    }
   },
   "outputs": [
    {
     "data": {
      "text/plain": [
       "(4809, 4809)"
      ]
     },
     "execution_count": 55,
     "metadata": {},
     "output_type": "execute_result"
    }
   ],
   "source": [
    "from sklearn.metrics.pairwise import cosine_similarity\n",
    "\n",
    "similarity_matrix=cosine_similarity(word_vector)  # creates a matrix containing matrix of \"similarity_score\" of each movies with each other\n",
    "similarity_matrix.shape                           # (4809, 4809)\n",
    "similarity_matrix"
   ]
  },
  {
   "cell_type": "code",
   "execution_count": 57,
   "metadata": {},
   "outputs": [],
   "source": [
    " # write similarity matrix to npy file\n",
    "np.save(r'D:\\Projects\\Content-Based_Movie_Recommendation_System-main\\Backend\\Data\\similarity_matrix.npy',similarity_matrix) "
   ]
  },
  {
   "cell_type": "markdown",
   "metadata": {},
   "source": [
    "### Recommendation Engine"
   ]
  },
  {
   "cell_type": "code",
   "execution_count": 78,
   "metadata": {
    "execution": {
     "iopub.execute_input": "2022-01-18T15:28:38.736380Z",
     "iopub.status.busy": "2022-01-18T15:28:38.735792Z",
     "iopub.status.idle": "2022-01-18T15:28:38.753936Z",
     "shell.execute_reply": "2022-01-18T15:28:38.752588Z",
     "shell.execute_reply.started": "2022-01-18T15:28:38.736338Z"
    }
   },
   "outputs": [],
   "source": [
    "def recommend(movie_name):\n",
    "    \"\"\" Takes Movie name & Returns top-5 similar movies \"\"\"\n",
    "\n",
    "    if movie_name in movie_data[\"title\"].values:                                                 # checks if movie name in data or not\n",
    "        movie_index=movie_data[movie_data[\"title\"]==(movie_name)].index[0]                       # return movie_Id from movie name\n",
    "        similarity=similarity_matrix[movie_index]\n",
    "        recommend_movies=sorted(list(enumerate(similarity)),reverse=True,key=lambda x:x[1])[1:4] # return top-5 most similar(movie_Id,similarity_matrix)\n",
    "\n",
    "        print(\"Your Recommended Movies:-\")\n",
    "        for movie in recommend_movies:\n",
    "            print(\"Movie-ID: {} : '{}' ; Similarity:{}\".format(movie[0],movie_data.iloc[movie[0]].title,round(movie[1],2)))\n",
    "    else:\n",
    "        print(\"Sorry!!! Try with another Movie name\")\n",
    "    print()"
   ]
  },
  {
   "cell_type": "code",
   "execution_count": 79,
   "metadata": {
    "execution": {
     "iopub.execute_input": "2022-01-18T15:29:32.256763Z",
     "iopub.status.busy": "2022-01-18T15:29:32.255973Z",
     "iopub.status.idle": "2022-01-18T15:29:32.275022Z",
     "shell.execute_reply": "2022-01-18T15:29:32.274096Z",
     "shell.execute_reply.started": "2022-01-18T15:29:32.256708Z"
    }
   },
   "outputs": [
    {
     "name": "stdout",
     "output_type": "stream",
     "text": [
      "Your Recommended Movies:-\n",
      "Movie-ID: 2409 : 'Aliens' ; Similarity:0.3\n",
      "Movie-ID: 838 : 'Alien³' ; Similarity:0.28\n",
      "Movie-ID: 3163 : 'Alien' ; Similarity:0.25\n",
      "\n",
      "Your Recommended Movies:-\n",
      "Movie-ID: 7 : 'Avengers: Age of Ultron' ; Similarity:0.54\n",
      "Movie-ID: 85 : 'Captain America: The Winter Soldier' ; Similarity:0.39\n",
      "Movie-ID: 26 : 'Captain America: Civil War' ; Similarity:0.39\n",
      "\n",
      "Your Recommended Movies:-\n",
      "Movie-ID: 2149 : 'Ghost Ship' ; Similarity:0.12\n",
      "Movie-ID: 818 : 'Captain Phillips' ; Similarity:0.12\n",
      "Movie-ID: 104 : 'Poseidon' ; Similarity:0.11\n",
      "\n",
      "Your Recommended Movies:-\n",
      "Movie-ID: 343 : 'Toy Story 2' ; Similarity:0.55\n",
      "Movie-ID: 1547 : 'Toy Story' ; Similarity:0.52\n",
      "Movie-ID: 1194 : 'Small Soldiers' ; Similarity:0.36\n",
      "\n",
      "Your Recommended Movies:-\n",
      "Movie-ID: 204 : 'Fast Five' ; Similarity:0.37\n",
      "Movie-ID: 99 : 'The Fast and the Furious' ; Similarity:0.35\n",
      "Movie-ID: 405 : 'The Fast and the Furious: Tokyo Drift' ; Similarity:0.23\n",
      "\n",
      "Your Recommended Movies:-\n",
      "Movie-ID: 1710 : 'The Big Short' ; Similarity:0.17\n",
      "Movie-ID: 2314 : 'Land of the Dead' ; Similarity:0.15\n",
      "Movie-ID: 3152 : 'Re-Kill' ; Similarity:0.14\n",
      "\n",
      "Your Recommended Movies:-\n",
      "Movie-ID: 3 : 'The Dark Knight Rises' ; Similarity:0.48\n",
      "Movie-ID: 119 : 'Batman Begins' ; Similarity:0.45\n",
      "Movie-ID: 428 : 'Batman Returns' ; Similarity:0.36\n",
      "\n"
     ]
    }
   ],
   "source": [
    "## Predict Your Next Movie\n",
    "recommend(\"Avatar\")\n",
    "recommend(\"The Avengers\")\n",
    "recommend(\"Titanic\")\n",
    "recommend(\"Toy Story 3\")\n",
    "recommend(\"Furious 7\")\n",
    "recommend(\"World War Z\")\n",
    "recommend(\"The Dark Knight\")"
   ]
  },
  {
   "cell_type": "code",
   "execution_count": 81,
   "metadata": {},
   "outputs": [],
   "source": [
    "## For Movie recommendation we only require data(movie-ID,title) & similarity-matrix.npy\n",
    "df=movie_data[['movie_id','title']]\n",
    "df.to_csv(r\"D:\\Projects\\Content-Based_Movie_Recommendation_System-main\\Backend\\Data\\movie_data_recommendation_engine.csv\",index=False)"
   ]
  },
  {
   "cell_type": "code",
   "execution_count": null,
   "metadata": {},
   "outputs": [],
   "source": []
  }
 ],
 "metadata": {
  "interpreter": {
   "hash": "81f571d391f91054c10517f88af1e4dd52c90d047d62f7eae0b02ba4c063c480"
  },
  "kernelspec": {
   "display_name": "Python 3.8.8 ('base')",
   "language": "python",
   "name": "python3"
  },
  "language_info": {
   "codemirror_mode": {
    "name": "ipython",
    "version": 3
   },
   "file_extension": ".py",
   "mimetype": "text/x-python",
   "name": "python",
   "nbconvert_exporter": "python",
   "pygments_lexer": "ipython3",
   "version": "3.8.8"
  }
 },
 "nbformat": 4,
 "nbformat_minor": 4
}
