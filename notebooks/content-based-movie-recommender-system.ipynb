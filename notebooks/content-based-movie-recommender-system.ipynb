{
 "cells": [
  {
   "cell_type": "markdown",
   "metadata": {},
   "source": [
    "# Loading Libraries"
   ]
  },
  {
   "cell_type": "code",
   "execution_count": 2,
   "metadata": {
    "execution": {
     "iopub.execute_input": "2022-01-18T14:40:35.358075Z",
     "iopub.status.busy": "2022-01-18T14:40:35.357522Z",
     "iopub.status.idle": "2022-01-18T14:40:36.657195Z",
     "shell.execute_reply": "2022-01-18T14:40:36.656460Z",
     "shell.execute_reply.started": "2022-01-18T14:40:35.357977Z"
    }
   },
   "outputs": [],
   "source": [
    "import pandas as pd\n",
    "import numpy as np\n",
    "from nltk.corpus import stopwords\n",
    "from nltk.stem.porter import PorterStemmer\n",
    "from sklearn.feature_extraction.text import CountVectorizer\n"
   ]
  },
  {
   "cell_type": "code",
   "execution_count": 4,
   "metadata": {
    "execution": {
     "iopub.execute_input": "2022-01-18T14:40:36.659203Z",
     "iopub.status.busy": "2022-01-18T14:40:36.658934Z",
     "iopub.status.idle": "2022-01-18T14:40:37.634046Z",
     "shell.execute_reply": "2022-01-18T14:40:37.633309Z",
     "shell.execute_reply.started": "2022-01-18T14:40:36.659164Z"
    }
   },
   "outputs": [],
   "source": [
    "#movies_data=pd.read_csv(r\"/kaggle/input/tmdb-movie-metadata/tmdb_5000_movies.csv\")\n",
    "#credits_data=pd.read_csv(r\"/kaggle/input/tmdb-movie-metadata/tmdb_5000_credits.csv\")\n",
    "movies_data=pd.read_csv(r\"C:\\Users\\jitan\\Referances\\content_based movie recommendation system\\dataset/tmdb_5000_movies.csv\")\n",
    "credits_data=pd.read_csv(r\"C:\\Users\\jitan\\Referances\\content_based movie recommendation system\\dataset/tmdb_5000_credits.csv\")\n"
   ]
  },
  {
   "cell_type": "code",
   "execution_count": 16,
   "metadata": {
    "execution": {
     "iopub.execute_input": "2022-01-18T14:40:37.635536Z",
     "iopub.status.busy": "2022-01-18T14:40:37.635274Z",
     "iopub.status.idle": "2022-01-18T14:40:37.651424Z",
     "shell.execute_reply": "2022-01-18T14:40:37.649022Z",
     "shell.execute_reply.started": "2022-01-18T14:40:37.635504Z"
    }
   },
   "outputs": [
    {
     "name": "stdout",
     "output_type": "stream",
     "text": [
      "budget                     0\n",
      "genres                     0\n",
      "homepage                3091\n",
      "id                         0\n",
      "keywords                   0\n",
      "original_language          0\n",
      "original_title             0\n",
      "overview                   3\n",
      "popularity                 0\n",
      "production_companies       0\n",
      "production_countries       0\n",
      "release_date               1\n",
      "revenue                    0\n",
      "runtime                    2\n",
      "spoken_languages           0\n",
      "status                     0\n",
      "tagline                  844\n",
      "title                      0\n",
      "vote_average               0\n",
      "vote_count                 0\n",
      "dtype: int64\n"
     ]
    }
   ],
   "source": [
    "movies_data.head()\n",
    "movies_data.columns \n",
    "# 'budget','genres','homepage','id','keywords','original_language','original_title','overview','popularity','production_companies','production_countries','release_date','revenue','runtime','spoken_languages','status','tagline','title','vote_average','vote_count'\n",
    "movies_data.shape  # 4803,20\n",
    "print(movies_data.isna().sum())\n"
   ]
  },
  {
   "cell_type": "code",
   "execution_count": 17,
   "metadata": {
    "execution": {
     "iopub.execute_input": "2022-01-18T14:40:37.655340Z",
     "iopub.status.busy": "2022-01-18T14:40:37.653361Z",
     "iopub.status.idle": "2022-01-18T14:40:37.664856Z",
     "shell.execute_reply": "2022-01-18T14:40:37.663988Z",
     "shell.execute_reply.started": "2022-01-18T14:40:37.655308Z"
    }
   },
   "outputs": [
    {
     "name": "stdout",
     "output_type": "stream",
     "text": [
      "movie_id    0\n",
      "title       0\n",
      "cast        0\n",
      "crew        0\n",
      "dtype: int64\n"
     ]
    }
   ],
   "source": [
    "credits_data.head()\n",
    "credits_data.columns # 'movie_id', 'title', 'cast', 'crew'\n",
    "credits_data.shape  # 4803,4\n",
    "print(credits_data.isna().sum())"
   ]
  },
  {
   "cell_type": "markdown",
   "metadata": {},
   "source": [
    "As these data-set ve many columns that are not nessential, so we take columns that are more important"
   ]
  },
  {
   "cell_type": "code",
   "execution_count": 18,
   "metadata": {
    "execution": {
     "iopub.execute_input": "2022-01-18T14:40:37.667010Z",
     "iopub.status.busy": "2022-01-18T14:40:37.666648Z",
     "iopub.status.idle": "2022-01-18T14:40:37.677211Z",
     "shell.execute_reply": "2022-01-18T14:40:37.676409Z",
     "shell.execute_reply.started": "2022-01-18T14:40:37.666975Z"
    }
   },
   "outputs": [],
   "source": [
    "selected_columns=['genres','keywords','overview','production_companies','title']\n",
    "movies=movies_data[selected_columns]\n"
   ]
  },
  {
   "cell_type": "markdown",
   "metadata": {},
   "source": [
    "# Merging 2 data-sets: "
   ]
  },
  {
   "cell_type": "code",
   "execution_count": 19,
   "metadata": {
    "execution": {
     "iopub.execute_input": "2022-01-18T14:40:38.337459Z",
     "iopub.status.busy": "2022-01-18T14:40:38.337202Z",
     "iopub.status.idle": "2022-01-18T14:40:38.359688Z",
     "shell.execute_reply": "2022-01-18T14:40:38.358987Z",
     "shell.execute_reply.started": "2022-01-18T14:40:38.337429Z"
    }
   },
   "outputs": [],
   "source": [
    "movies=movies.merge(credits_data,on=\"title\")    # As \"title\" column present on both data-set, so mergeing on\"title\"\n"
   ]
  },
  {
   "cell_type": "markdown",
   "metadata": {},
   "source": [
    "## Data-set insights"
   ]
  },
  {
   "cell_type": "code",
   "execution_count": 20,
   "metadata": {
    "execution": {
     "iopub.execute_input": "2022-01-18T14:40:39.157300Z",
     "iopub.status.busy": "2022-01-18T14:40:39.157057Z",
     "iopub.status.idle": "2022-01-18T14:40:39.263319Z",
     "shell.execute_reply": "2022-01-18T14:40:39.262629Z",
     "shell.execute_reply.started": "2022-01-18T14:40:39.157274Z"
    }
   },
   "outputs": [
    {
     "data": {
      "text/html": [
       "<div>\n",
       "<style scoped>\n",
       "    .dataframe tbody tr th:only-of-type {\n",
       "        vertical-align: middle;\n",
       "    }\n",
       "\n",
       "    .dataframe tbody tr th {\n",
       "        vertical-align: top;\n",
       "    }\n",
       "\n",
       "    .dataframe thead th {\n",
       "        text-align: right;\n",
       "    }\n",
       "</style>\n",
       "<table border=\"1\" class=\"dataframe\">\n",
       "  <thead>\n",
       "    <tr style=\"text-align: right;\">\n",
       "      <th></th>\n",
       "      <th>genres</th>\n",
       "      <th>keywords</th>\n",
       "      <th>overview</th>\n",
       "      <th>production_companies</th>\n",
       "      <th>title</th>\n",
       "      <th>movie_id</th>\n",
       "      <th>cast</th>\n",
       "      <th>crew</th>\n",
       "    </tr>\n",
       "  </thead>\n",
       "  <tbody>\n",
       "    <tr>\n",
       "      <th>0</th>\n",
       "      <td>[{\"id\": 28, \"name\": \"Action\"}, {\"id\": 12, \"nam...</td>\n",
       "      <td>[{\"id\": 1463, \"name\": \"culture clash\"}, {\"id\":...</td>\n",
       "      <td>In the 22nd century, a paraplegic Marine is di...</td>\n",
       "      <td>[{\"name\": \"Ingenious Film Partners\", \"id\": 289...</td>\n",
       "      <td>Avatar</td>\n",
       "      <td>19995</td>\n",
       "      <td>[{\"cast_id\": 242, \"character\": \"Jake Sully\", \"...</td>\n",
       "      <td>[{\"credit_id\": \"52fe48009251416c750aca23\", \"de...</td>\n",
       "    </tr>\n",
       "    <tr>\n",
       "      <th>1</th>\n",
       "      <td>[{\"id\": 12, \"name\": \"Adventure\"}, {\"id\": 14, \"...</td>\n",
       "      <td>[{\"id\": 270, \"name\": \"ocean\"}, {\"id\": 726, \"na...</td>\n",
       "      <td>Captain Barbossa, long believed to be dead, ha...</td>\n",
       "      <td>[{\"name\": \"Walt Disney Pictures\", \"id\": 2}, {\"...</td>\n",
       "      <td>Pirates of the Caribbean: At World's End</td>\n",
       "      <td>285</td>\n",
       "      <td>[{\"cast_id\": 4, \"character\": \"Captain Jack Spa...</td>\n",
       "      <td>[{\"credit_id\": \"52fe4232c3a36847f800b579\", \"de...</td>\n",
       "    </tr>\n",
       "    <tr>\n",
       "      <th>2</th>\n",
       "      <td>[{\"id\": 28, \"name\": \"Action\"}, {\"id\": 12, \"nam...</td>\n",
       "      <td>[{\"id\": 470, \"name\": \"spy\"}, {\"id\": 818, \"name...</td>\n",
       "      <td>A cryptic message from Bond’s past sends him o...</td>\n",
       "      <td>[{\"name\": \"Columbia Pictures\", \"id\": 5}, {\"nam...</td>\n",
       "      <td>Spectre</td>\n",
       "      <td>206647</td>\n",
       "      <td>[{\"cast_id\": 1, \"character\": \"James Bond\", \"cr...</td>\n",
       "      <td>[{\"credit_id\": \"54805967c3a36829b5002c41\", \"de...</td>\n",
       "    </tr>\n",
       "    <tr>\n",
       "      <th>3</th>\n",
       "      <td>[{\"id\": 28, \"name\": \"Action\"}, {\"id\": 80, \"nam...</td>\n",
       "      <td>[{\"id\": 849, \"name\": \"dc comics\"}, {\"id\": 853,...</td>\n",
       "      <td>Following the death of District Attorney Harve...</td>\n",
       "      <td>[{\"name\": \"Legendary Pictures\", \"id\": 923}, {\"...</td>\n",
       "      <td>The Dark Knight Rises</td>\n",
       "      <td>49026</td>\n",
       "      <td>[{\"cast_id\": 2, \"character\": \"Bruce Wayne / Ba...</td>\n",
       "      <td>[{\"credit_id\": \"52fe4781c3a36847f81398c3\", \"de...</td>\n",
       "    </tr>\n",
       "    <tr>\n",
       "      <th>4</th>\n",
       "      <td>[{\"id\": 28, \"name\": \"Action\"}, {\"id\": 12, \"nam...</td>\n",
       "      <td>[{\"id\": 818, \"name\": \"based on novel\"}, {\"id\":...</td>\n",
       "      <td>John Carter is a war-weary, former military ca...</td>\n",
       "      <td>[{\"name\": \"Walt Disney Pictures\", \"id\": 2}]</td>\n",
       "      <td>John Carter</td>\n",
       "      <td>49529</td>\n",
       "      <td>[{\"cast_id\": 5, \"character\": \"John Carter\", \"c...</td>\n",
       "      <td>[{\"credit_id\": \"52fe479ac3a36847f813eaa3\", \"de...</td>\n",
       "    </tr>\n",
       "  </tbody>\n",
       "</table>\n",
       "</div>"
      ],
      "text/plain": [
       "                                              genres  \\\n",
       "0  [{\"id\": 28, \"name\": \"Action\"}, {\"id\": 12, \"nam...   \n",
       "1  [{\"id\": 12, \"name\": \"Adventure\"}, {\"id\": 14, \"...   \n",
       "2  [{\"id\": 28, \"name\": \"Action\"}, {\"id\": 12, \"nam...   \n",
       "3  [{\"id\": 28, \"name\": \"Action\"}, {\"id\": 80, \"nam...   \n",
       "4  [{\"id\": 28, \"name\": \"Action\"}, {\"id\": 12, \"nam...   \n",
       "\n",
       "                                            keywords  \\\n",
       "0  [{\"id\": 1463, \"name\": \"culture clash\"}, {\"id\":...   \n",
       "1  [{\"id\": 270, \"name\": \"ocean\"}, {\"id\": 726, \"na...   \n",
       "2  [{\"id\": 470, \"name\": \"spy\"}, {\"id\": 818, \"name...   \n",
       "3  [{\"id\": 849, \"name\": \"dc comics\"}, {\"id\": 853,...   \n",
       "4  [{\"id\": 818, \"name\": \"based on novel\"}, {\"id\":...   \n",
       "\n",
       "                                            overview  \\\n",
       "0  In the 22nd century, a paraplegic Marine is di...   \n",
       "1  Captain Barbossa, long believed to be dead, ha...   \n",
       "2  A cryptic message from Bond’s past sends him o...   \n",
       "3  Following the death of District Attorney Harve...   \n",
       "4  John Carter is a war-weary, former military ca...   \n",
       "\n",
       "                                production_companies  \\\n",
       "0  [{\"name\": \"Ingenious Film Partners\", \"id\": 289...   \n",
       "1  [{\"name\": \"Walt Disney Pictures\", \"id\": 2}, {\"...   \n",
       "2  [{\"name\": \"Columbia Pictures\", \"id\": 5}, {\"nam...   \n",
       "3  [{\"name\": \"Legendary Pictures\", \"id\": 923}, {\"...   \n",
       "4        [{\"name\": \"Walt Disney Pictures\", \"id\": 2}]   \n",
       "\n",
       "                                      title  movie_id  \\\n",
       "0                                    Avatar     19995   \n",
       "1  Pirates of the Caribbean: At World's End       285   \n",
       "2                                   Spectre    206647   \n",
       "3                     The Dark Knight Rises     49026   \n",
       "4                               John Carter     49529   \n",
       "\n",
       "                                                cast  \\\n",
       "0  [{\"cast_id\": 242, \"character\": \"Jake Sully\", \"...   \n",
       "1  [{\"cast_id\": 4, \"character\": \"Captain Jack Spa...   \n",
       "2  [{\"cast_id\": 1, \"character\": \"James Bond\", \"cr...   \n",
       "3  [{\"cast_id\": 2, \"character\": \"Bruce Wayne / Ba...   \n",
       "4  [{\"cast_id\": 5, \"character\": \"John Carter\", \"c...   \n",
       "\n",
       "                                                crew  \n",
       "0  [{\"credit_id\": \"52fe48009251416c750aca23\", \"de...  \n",
       "1  [{\"credit_id\": \"52fe4232c3a36847f800b579\", \"de...  \n",
       "2  [{\"credit_id\": \"54805967c3a36829b5002c41\", \"de...  \n",
       "3  [{\"credit_id\": \"52fe4781c3a36847f81398c3\", \"de...  \n",
       "4  [{\"credit_id\": \"52fe479ac3a36847f813eaa3\", \"de...  "
      ]
     },
     "execution_count": 20,
     "metadata": {},
     "output_type": "execute_result"
    }
   ],
   "source": [
    "movies.head()\n",
    "movies.shape   # 4809,8\n",
    "\n",
    "# handling Null values\n",
    "movies.isna().sum()\n",
    "movies.fillna(\"unknown\",inplace=True)\n",
    "\n",
    "# Duplicate values\n",
    "movies.duplicated().sum()"
   ]
  },
  {
   "cell_type": "code",
   "execution_count": 21,
   "metadata": {},
   "outputs": [
    {
     "data": {
      "text/plain": [
       "Index(['genres', 'keywords', 'overview', 'production_companies', 'title',\n",
       "       'movie_id', 'cast', 'crew'],\n",
       "      dtype='object')"
      ]
     },
     "execution_count": 21,
     "metadata": {},
     "output_type": "execute_result"
    }
   ],
   "source": [
    "movies.columns"
   ]
  },
  {
   "cell_type": "markdown",
   "metadata": {},
   "source": [
    "## Preprocessing Data(Column-wise)"
   ]
  },
  {
   "cell_type": "code",
   "execution_count": 9,
   "metadata": {
    "execution": {
     "iopub.execute_input": "2022-01-18T14:40:40.057556Z",
     "iopub.status.busy": "2022-01-18T14:40:40.057099Z",
     "iopub.status.idle": "2022-01-18T14:40:40.065372Z",
     "shell.execute_reply": "2022-01-18T14:40:40.064540Z",
     "shell.execute_reply.started": "2022-01-18T14:40:40.057519Z"
    }
   },
   "outputs": [
    {
     "data": {
      "text/plain": [
       "19995"
      ]
     },
     "execution_count": 9,
     "metadata": {},
     "output_type": "execute_result"
    }
   ],
   "source": [
    "#'movie_id' column\n",
    "movies['movie_id'].head()\n",
    "movies['movie_id'][0]  \n",
    "\n",
    "# we no need to preprocess this column"
   ]
  },
  {
   "cell_type": "code",
   "execution_count": 10,
   "metadata": {
    "execution": {
     "iopub.execute_input": "2022-01-18T14:40:40.814297Z",
     "iopub.status.busy": "2022-01-18T14:40:40.814049Z",
     "iopub.status.idle": "2022-01-18T14:40:40.821357Z",
     "shell.execute_reply": "2022-01-18T14:40:40.820589Z",
     "shell.execute_reply.started": "2022-01-18T14:40:40.814269Z"
    }
   },
   "outputs": [
    {
     "data": {
      "text/plain": [
       "'Avatar'"
      ]
     },
     "execution_count": 10,
     "metadata": {},
     "output_type": "execute_result"
    }
   ],
   "source": [
    "#'title' column\n",
    "movies['title'].head()\n",
    "movies['title'][0]  \n",
    "\n",
    "# we no need to preprocess this column\n",
    "\n"
   ]
  },
  {
   "cell_type": "code",
   "execution_count": 11,
   "metadata": {
    "execution": {
     "iopub.execute_input": "2022-01-18T14:40:41.638987Z",
     "iopub.status.busy": "2022-01-18T14:40:41.638214Z",
     "iopub.status.idle": "2022-01-18T14:40:41.759063Z",
     "shell.execute_reply": "2022-01-18T14:40:41.758372Z",
     "shell.execute_reply.started": "2022-01-18T14:40:41.638946Z"
    }
   },
   "outputs": [
    {
     "data": {
      "text/plain": [
       "0       [action, adventure, fantasy, science-fiction]\n",
       "1                        [adventure, fantasy, action]\n",
       "2                          [action, adventure, crime]\n",
       "3                    [action, crime, drama, thriller]\n",
       "4                [action, adventure, science-fiction]\n",
       "                            ...                      \n",
       "4804                        [action, crime, thriller]\n",
       "4805                                [comedy, romance]\n",
       "4806               [comedy, drama, romance, tv-movie]\n",
       "4807                                               []\n",
       "4808                                    [documentary]\n",
       "Name: genres, Length: 4809, dtype: object"
      ]
     },
     "execution_count": 11,
     "metadata": {},
     "output_type": "execute_result"
    }
   ],
   "source": [
    "## 'genres' column\n",
    "movies['genres'].head()\n",
    "movies['genres'][0]\n",
    "\n",
    "# to make all words lower-case\n",
    "movies[\"genres\"]=movies[\"genres\"].str.lower()\n",
    "\n",
    "# Here we only need \"names\" from \"genres\"\n",
    "# we also need to remove \" \" As 'Science','Fiction' & 'Science Fiction' can be represent as different \n",
    "def genre_extractor(df):\n",
    "    genres=[i[\"name\"].replace(\" \",\"-\") for i in eval(df)]    # extract only \"name\"s from \"genre-column\"\n",
    "    return genres\n",
    "\n",
    "movies[\"genres\"]=movies[\"genres\"].apply(genre_extractor)\n",
    "movies[\"genres\"]"
   ]
  },
  {
   "cell_type": "code",
   "execution_count": 12,
   "metadata": {
    "execution": {
     "iopub.execute_input": "2022-01-18T14:40:46.396408Z",
     "iopub.status.busy": "2022-01-18T14:40:46.396161Z",
     "iopub.status.idle": "2022-01-18T14:40:46.669132Z",
     "shell.execute_reply": "2022-01-18T14:40:46.668478Z",
     "shell.execute_reply.started": "2022-01-18T14:40:46.396380Z"
    }
   },
   "outputs": [
    {
     "data": {
      "text/plain": [
       "0       [culture-clash, future, space-war, space-colon...\n",
       "1       [ocean, drug-abuse, exotic-island, east-india-...\n",
       "2       [spy, based-on-novel, secret-agent, sequel, mi...\n",
       "3       [dc-comics, crime-fighter, terrorist, secret-i...\n",
       "4       [based-on-novel, mars, medallion, space-travel...\n",
       "                              ...                        \n",
       "4804    [united-states–mexico-barrier, legs, arms, pap...\n",
       "4805                                                   []\n",
       "4806    [date, love-at-first-sight, narration, investi...\n",
       "4807                                                   []\n",
       "4808            [obsession, camcorder, crush, dream-girl]\n",
       "Name: keywords, Length: 4809, dtype: object"
      ]
     },
     "execution_count": 12,
     "metadata": {},
     "output_type": "execute_result"
    }
   ],
   "source": [
    "# 'keywords' column\n",
    "movies['keywords'].head()\n",
    "movies['keywords'][0]\n",
    "\n",
    "# to make all words lower-case\n",
    "movies[\"keywords\"]=movies[\"keywords\"].str.lower()\n",
    "\n",
    "# Here we only need \"names\" from \"key-words\"\n",
    "# we also need to remove \" \" As 'Science','Fiction' & 'Science Fiction' can be represent as different  \n",
    "def keywords_extractor(df):\n",
    "    keywords=[i[\"name\"].replace(\" \",\"-\") for i in eval(df)]    # extract only \"name\"s from \"keywords-column\"\n",
    "    return keywords\n",
    "\n",
    "movies[\"keywords\"]=movies[\"keywords\"].apply(keywords_extractor)\n",
    "movies[\"keywords\"]"
   ]
  },
  {
   "cell_type": "code",
   "execution_count": 13,
   "metadata": {
    "execution": {
     "iopub.execute_input": "2022-01-18T14:40:46.774280Z",
     "iopub.status.busy": "2022-01-18T14:40:46.774036Z",
     "iopub.status.idle": "2022-01-18T14:40:51.013484Z",
     "shell.execute_reply": "2022-01-18T14:40:51.012677Z",
     "shell.execute_reply.started": "2022-01-18T14:40:46.774252Z"
    }
   },
   "outputs": [
    {
     "name": "stderr",
     "output_type": "stream",
     "text": [
      "C:\\Users\\jitan\\anaconda3\\envs\\yolov4-gpu\\lib\\site-packages\\ipykernel_launcher.py:10: FutureWarning: The default value of regex will change from True to False in a future version.\n",
      "  # Remove the CWD from sys.path while we load stuff.\n"
     ]
    },
    {
     "data": {
      "text/plain": [
       "0       22nd centuri parapleg marin dispatch moon pand...\n",
       "1       captain barbossa long believ dead come back li...\n",
       "2       cryptic messag bond past send trail uncov sini...\n",
       "3       follow death district attorney harvey dent bat...\n",
       "4       john carter warweari former militari captain w...\n",
       "                              ...                        \n",
       "4804    el mariachi want play guitar carri famili trad...\n",
       "4805    newlyw coupl honeymoon upend arriv respect sister\n",
       "4806    sign seal deliv introduc dedic quartet civil s...\n",
       "4807    ambiti new york attorney sam sent shanghai ass...\n",
       "4808    ever sinc second grade first saw et extraterre...\n",
       "Name: overview, Length: 4809, dtype: object"
      ]
     },
     "execution_count": 13,
     "metadata": {},
     "output_type": "execute_result"
    }
   ],
   "source": [
    "# 'overview'\n",
    "movies[\"overview\"].head()\n",
    "movies[\"overview\"][0]\n",
    "\n",
    "\n",
    "# make all words lower-case\n",
    "movies[\"overview\"]=movies[\"overview\"].str.lower()\n",
    "\n",
    "# Remove \"punctuation\" \n",
    "movies[\"overview\"]=movies['overview'].str.replace('[^\\w\\s]','')\n",
    "\n",
    "# Remove \"stop-words\" as those are not important \n",
    "# Also need to \"Stem\" these words , As \"play\" , \"plays\" & \"playing\" can be represent as different.\n",
    "stop_words=stopwords.words('english')\n",
    "ps=PorterStemmer()\n",
    "\n",
    "def preprocess(words):\n",
    "    preprocessed=[word for word in words.split() if word not in stop_words]  # removoing stop-words\n",
    "    preprocessed=[ps.stem(word) for word in preprocessed]                   # steming \n",
    "    preprocessed=' '.join(preprocessed) # join words to sentence\n",
    "    return preprocessed\n",
    "\n",
    "movies['overview']=movies['overview'].apply(preprocess)\n",
    "movies['overview']"
   ]
  },
  {
   "cell_type": "code",
   "execution_count": 14,
   "metadata": {
    "execution": {
     "iopub.execute_input": "2022-01-18T14:40:51.015552Z",
     "iopub.status.busy": "2022-01-18T14:40:51.015282Z",
     "iopub.status.idle": "2022-01-18T14:40:53.021134Z",
     "shell.execute_reply": "2022-01-18T14:40:53.020453Z",
     "shell.execute_reply.started": "2022-01-18T14:40:51.015513Z"
    }
   },
   "outputs": [
    {
     "data": {
      "text/plain": [
       "['johnny-depp',\n",
       " 'orlando-bloom',\n",
       " 'keira-knightley',\n",
       " 'stellan-skarsgård',\n",
       " 'chow-yun-fat']"
      ]
     },
     "execution_count": 14,
     "metadata": {},
     "output_type": "execute_result"
    }
   ],
   "source": [
    "#'cast' column\n",
    "movies['cast'].head()\n",
    "movies['cast'][0]\n",
    "\n",
    "# to make all words lower-case\n",
    "movies['cast']=movies['cast'].str.lower()\n",
    "\n",
    "# Here we only need \"names\" from \"key-words\"\n",
    "# As there are many \"cast\" in a movie , I'm just taking \"5 front casts\"\n",
    "# we also need to remove \" \" As 'johnny','depp' & 'johnny depp' can be represent as different  \n",
    "def casts_extractor(df):\n",
    "    cast=[i[\"name\"].replace(\" \",\"-\") for i in eval(df)]    # extract only \"name\"s from \"keywords-column\"\n",
    "    return cast[:5]\n",
    "\n",
    "movies['cast']=movies['cast'].apply(casts_extractor)\n",
    "movies['cast'][1]"
   ]
  },
  {
   "cell_type": "code",
   "execution_count": 15,
   "metadata": {
    "execution": {
     "iopub.execute_input": "2022-01-18T14:40:53.023043Z",
     "iopub.status.busy": "2022-01-18T14:40:53.022446Z",
     "iopub.status.idle": "2022-01-18T14:40:57.641785Z",
     "shell.execute_reply": "2022-01-18T14:40:57.640872Z",
     "shell.execute_reply.started": "2022-01-18T14:40:53.023002Z"
    }
   },
   "outputs": [],
   "source": [
    "#'crew' column\n",
    "movies['crew'].head()\n",
    "movies['crew'][0]\n",
    "\n",
    "# to make all words lower-case\n",
    "movies['crew']=movies['crew'].str.lower()\n",
    "\n",
    "# Crews are important but it's lots of information to process & also not all crew members equally important for our task \n",
    "# So I'm taking only \"director\" & \"producer\"\n",
    "# we also need to remove \" \" As 'johnny','depp' & 'johnny depp' can be represent as different  \n",
    "def director_extractor(df):\n",
    "    \"\"\" Extract Director name from Crew Members\"\"\"\n",
    "    name=[i[\"name\"].replace(\" \",\"-\") for i in eval(df) if i[\"job\"]==\"director\"]    # extract only list of \"director-names\" \n",
    "    return [name[0] if len(name)!=0 else \"\"]  # if there are multiple \"directors\" return 1st && if no-director name listed then return \"\" \n",
    "\n",
    "movies['director']=movies['crew'].apply(director_extractor)\n",
    "\n",
    "def producer_extractor(df):\n",
    "    \"\"\" Extract Producer name from Crew Members\"\"\"\n",
    "    name=[i[\"name\"].replace(\" \",\"-\") for i in eval(df) if i[\"job\"]==\"producer\"]    # extract only list of \"producer-names\" \n",
    "    return [name[0] if len(name)!=0 else \"\"]  # if there are multiple \"producers\" return 1st && if no-producer name listed then return \"\" \n",
    "\n",
    "movies['producer']=movies['crew'].apply(producer_extractor)\n",
    "\n",
    "\n",
    "## As we extracted valuable info. from \"crew\" column, so we can now drop that\n",
    "movies.drop(['crew'],axis=1,inplace=True)"
   ]
  },
  {
   "cell_type": "markdown",
   "metadata": {},
   "source": [
    "## In Some movies there are same \"producer\" as \"director\". So we have take one when they are same \n",
    "movies[['producer','director']]\n"
   ]
  },
  {
   "cell_type": "code",
   "execution_count": 16,
   "metadata": {
    "execution": {
     "iopub.execute_input": "2022-01-18T14:40:57.644056Z",
     "iopub.status.busy": "2022-01-18T14:40:57.643823Z",
     "iopub.status.idle": "2022-01-18T14:40:57.773521Z",
     "shell.execute_reply": "2022-01-18T14:40:57.772711Z",
     "shell.execute_reply.started": "2022-01-18T14:40:57.644023Z"
    }
   },
   "outputs": [
    {
     "data": {
      "text/plain": [
       "0       [ingenious-film-partners, twentieth-century-fo...\n",
       "1         [walt-disney-pictures, jerry-bruckheimer-films]\n",
       "2                             [columbia-pictures, danjaq]\n",
       "3                      [legendary-pictures, warner-bros.]\n",
       "4                                  [walt-disney-pictures]\n",
       "                              ...                        \n",
       "4804                                  [columbia-pictures]\n",
       "4805                                                   []\n",
       "4806    [front-street-pictures, muse-entertainment-ent...\n",
       "4807                                                   []\n",
       "4808         [rusty-bear-entertainment, lucky-crow-films]\n",
       "Name: production_companies, Length: 4809, dtype: object"
      ]
     },
     "execution_count": 16,
     "metadata": {},
     "output_type": "execute_result"
    }
   ],
   "source": [
    "#'production_companies' column\n",
    "movies['production_companies'].head()\n",
    "movies['production_companies'][0]\n",
    "\n",
    "# to make all words lower-case\n",
    "movies['production_companies']=movies['production_companies'].str.lower()\n",
    "\n",
    "# I did not know \"production_companies\" important or not but for me, some times I ignore movies thats are not belongs to known \"production_companies\"\n",
    "# so I'm keeping this column you can skip it\n",
    "# Here I'm taking only 2 front-line \"production_companies\" \n",
    "# we also need to remove \" \" As 'johnny','depp' & 'johnny depp' can be represent as different  \n",
    "def production_companies_extractor(df):\n",
    "    \"\"\" Extract production_companies name \"\"\"\n",
    "    name=[i[\"name\"].replace(\" \",\"-\") for i in eval(df)]    # extract only \"name\"s from \"keywords-column\"\n",
    "    return name[:2] \n",
    "\n",
    "movies['production_companies']=movies['production_companies'].apply(production_companies_extractor)\n",
    "movies['production_companies']"
   ]
  },
  {
   "cell_type": "markdown",
   "metadata": {},
   "source": [
    "# Prepare data-set for Recommender-System"
   ]
  },
  {
   "cell_type": "code",
   "execution_count": 17,
   "metadata": {
    "execution": {
     "iopub.execute_input": "2022-01-18T14:40:57.775187Z",
     "iopub.status.busy": "2022-01-18T14:40:57.774928Z",
     "iopub.status.idle": "2022-01-18T14:40:57.806300Z",
     "shell.execute_reply": "2022-01-18T14:40:57.805340Z",
     "shell.execute_reply.started": "2022-01-18T14:40:57.775152Z"
    }
   },
   "outputs": [
    {
     "data": {
      "text/plain": [
       "0       action adventure fantasy science-fiction cultu...\n",
       "1       adventure fantasy action ocean drug-abuse exot...\n",
       "2       action adventure crime spy based-on-novel secr...\n",
       "3       action crime drama thriller dc-comics crime-fi...\n",
       "4       action adventure science-fiction based-on-nove...\n",
       "                              ...                        \n",
       "4804    action crime thriller united-states–mexico-bar...\n",
       "4805    comedy romance edward-burns kerry-bishé marsha...\n",
       "4806    comedy drama romance tv-movie date love-at-fir...\n",
       "4807    daniel-henney eliza-coupe bill-paxton alan-ruc...\n",
       "4808    documentary obsession camcorder crush dream-gi...\n",
       "Name: tags, Length: 4809, dtype: object"
      ]
     },
     "execution_count": 17,
     "metadata": {},
     "output_type": "execute_result"
    }
   ],
   "source": [
    "## We need to merge ['genres','keywords','overview','production_companies','cast','director','producer']\n",
    "\n",
    "# we need to convert 'tags' column values from list to string & after that we can add it with \"overview\" column\n",
    "# And we also need them as string to do modelling\n",
    "movies[\"tags\"]=movies['genres']+movies['keywords']+movies['cast']+movies['director']+movies['producer']+movies['production_companies']\n",
    "movies['tags']=movies['tags'].apply(' '.join)   # converts list to strings\n",
    "\n",
    "# Now we can add \"overview\" column to \"tag\"\n",
    "movies['tags']=movies['tags']+movies['overview']\n",
    "\n",
    "movies['tags']\n"
   ]
  },
  {
   "cell_type": "code",
   "execution_count": 18,
   "metadata": {
    "execution": {
     "iopub.execute_input": "2022-01-18T14:40:57.808129Z",
     "iopub.status.busy": "2022-01-18T14:40:57.807852Z",
     "iopub.status.idle": "2022-01-18T14:40:57.821547Z",
     "shell.execute_reply": "2022-01-18T14:40:57.820715Z",
     "shell.execute_reply.started": "2022-01-18T14:40:57.808090Z"
    }
   },
   "outputs": [
    {
     "data": {
      "text/plain": [
       "(4809, 3)"
      ]
     },
     "execution_count": 18,
     "metadata": {},
     "output_type": "execute_result"
    }
   ],
   "source": [
    "## For our System we now need 3 columns \"movie_id\",\"title\",\"tag\"\n",
    "movie_refined_data=movies[[\"movie_id\",\"title\",\"tags\"]]\n",
    "movie_refined_data.head()\n",
    "movie_refined_data.shape  #4809,3"
   ]
  },
  {
   "cell_type": "code",
   "execution_count": 19,
   "metadata": {
    "execution": {
     "iopub.execute_input": "2022-01-18T14:45:44.060363Z",
     "iopub.status.busy": "2022-01-18T14:45:44.059811Z",
     "iopub.status.idle": "2022-01-18T14:45:44.587423Z",
     "shell.execute_reply": "2022-01-18T14:45:44.586702Z",
     "shell.execute_reply.started": "2022-01-18T14:45:44.060324Z"
    }
   },
   "outputs": [],
   "source": [
    "cv=CountVectorizer(max_features=5000)\n",
    "word_vectors=cv.fit_transform(movie_refined_data[\"tags\"]).toarray()\n",
    "#cv.get_feature_names()"
   ]
  },
  {
   "cell_type": "code",
   "execution_count": 20,
   "metadata": {
    "execution": {
     "iopub.execute_input": "2022-01-18T14:49:01.094332Z",
     "iopub.status.busy": "2022-01-18T14:49:01.093677Z",
     "iopub.status.idle": "2022-01-18T14:49:02.307067Z",
     "shell.execute_reply": "2022-01-18T14:49:02.306319Z",
     "shell.execute_reply.started": "2022-01-18T14:49:01.094295Z"
    }
   },
   "outputs": [
    {
     "name": "stderr",
     "output_type": "stream",
     "text": [
      "C:\\Users\\jitan\\anaconda3\\envs\\yolov4-gpu\\lib\\site-packages\\sklearn\\utils\\deprecation.py:87: FutureWarning: Function get_feature_names is deprecated; get_feature_names is deprecated in 1.0 and will be removed in 1.2. Please use get_feature_names_out instead.\n",
      "  warnings.warn(msg, category=FutureWarning)\n"
     ]
    }
   ],
   "source": [
    "from sklearn.feature_extraction.text import TfidfVectorizer\n",
    "tfidf=TfidfVectorizer()\n",
    "word_vector=tfidf.fit_transform(movie_refined_data[\"tags\"]).toarray()\n",
    "\n",
    "word=tfidf.get_feature_names()\n",
    "#word"
   ]
  },
  {
   "cell_type": "markdown",
   "metadata": {},
   "source": [
    "## Calculating Similarity or distance-metrics\n",
    "* Here we need to calculate similarity of each movie with rest of movies\n",
    "* In High-Dimensional Space \"Eucleadian Distance\" is not a good measure so we are using \"Cosine Similarity\"\n",
    "* "
   ]
  },
  {
   "cell_type": "code",
   "execution_count": 21,
   "metadata": {
    "execution": {
     "iopub.execute_input": "2022-01-18T14:49:04.609996Z",
     "iopub.status.busy": "2022-01-18T14:49:04.609667Z",
     "iopub.status.idle": "2022-01-18T14:49:19.430801Z",
     "shell.execute_reply": "2022-01-18T14:49:19.429970Z",
     "shell.execute_reply.started": "2022-01-18T14:49:04.609956Z"
    }
   },
   "outputs": [
    {
     "data": {
      "text/plain": [
       "(4809, 4809)"
      ]
     },
     "execution_count": 21,
     "metadata": {},
     "output_type": "execute_result"
    }
   ],
   "source": [
    "from sklearn.metrics.pairwise import cosine_similarity\n",
    "\n",
    "similarity_matrix=cosine_similarity(word_vector)\n",
    "# creates a matrix containing matrix of \"similarity_score\" of each movies with each other\n",
    "similarity_matrix.shape"
   ]
  },
  {
   "cell_type": "code",
   "execution_count": 30,
   "metadata": {},
   "outputs": [
    {
     "data": {
      "text/plain": [
       "numpy.ndarray"
      ]
     },
     "execution_count": 30,
     "metadata": {},
     "output_type": "execute_result"
    }
   ],
   "source": [
    "type(similarity_matrix)"
   ]
  },
  {
   "cell_type": "code",
   "execution_count": 22,
   "metadata": {
    "execution": {
     "iopub.execute_input": "2022-01-18T15:28:38.736380Z",
     "iopub.status.busy": "2022-01-18T15:28:38.735792Z",
     "iopub.status.idle": "2022-01-18T15:28:38.753936Z",
     "shell.execute_reply": "2022-01-18T15:28:38.752588Z",
     "shell.execute_reply.started": "2022-01-18T15:28:38.736338Z"
    }
   },
   "outputs": [],
   "source": [
    "## Recommendation Engine\n",
    "def recommend(movie_name):\n",
    "    #movie_name=movie_name.title()\n",
    "    if movie_name in movie_refined_data[\"title\"].values: # checks if movie name in data or not\n",
    "        movie_index=movie_refined_data[movie_refined_data[\"title\"]==(movie_name)].index[0] # return movie_Id from movie name\n",
    "        similarity=similarity_matrix[movie_index]\n",
    "        recommend_movies=sorted(list(enumerate(similarity)),reverse=True,key=lambda x:x[1])[1:6] # return top-5 most similar(movie_Id,similarity_matrix)\n",
    "\n",
    "        print(\"Your Recommended Movies:-\")\n",
    "        for movie in recommend_movies:\n",
    "            print(movie_refined_data.iloc[movie[0]].title)\n",
    "    else:\n",
    "        print(\"Sorry!!! Try with another Movie name\")\n",
    "\n",
    "    #return recommend_movie_index\n",
    "\n",
    "    \n"
   ]
  },
  {
   "cell_type": "code",
   "execution_count": 23,
   "metadata": {
    "execution": {
     "iopub.execute_input": "2022-01-18T15:29:32.256763Z",
     "iopub.status.busy": "2022-01-18T15:29:32.255973Z",
     "iopub.status.idle": "2022-01-18T15:29:32.275022Z",
     "shell.execute_reply": "2022-01-18T15:29:32.274096Z",
     "shell.execute_reply.started": "2022-01-18T15:29:32.256708Z"
    }
   },
   "outputs": [
    {
     "name": "stdout",
     "output_type": "stream",
     "text": [
      "Your Recommended Movies:-\n",
      "Pirates of the Caribbean: Dead Man's Chest\n",
      "Pirates of the Caribbean: The Curse of the Black Pearl\n",
      "Pirates of the Caribbean: At World's End\n",
      "Kangaroo Jack\n",
      "Prince of Persia: The Sands of Time\n"
     ]
    }
   ],
   "source": [
    "## Predict Your Next Movie\n",
    "recommend(\"Pirates of the Caribbean: On Stranger Tides\")\n"
   ]
  },
  {
   "cell_type": "markdown",
   "metadata": {},
   "source": [
    "## Create Data for Streamlit app"
   ]
  },
  {
   "cell_type": "code",
   "execution_count": 25,
   "metadata": {},
   "outputs": [],
   "source": [
    "data=movie_refined_data[[\"movie_id\",\"title\"]]\n",
    "#data=data.set_index(\"movie_id\")\n",
    "#data.to_csv(\"movie_data.csv\")   # write data to csv file\n",
    "\n",
    "np.save('similarity_matrix.npy',similarity_matrix)  # write similarity matrix to npy file"
   ]
  },
  {
   "cell_type": "code",
   "execution_count": null,
   "metadata": {},
   "outputs": [],
   "source": [
    "## For Movie recommendation we just need \"data\" & \"similarity_matrix\""
   ]
  },
  {
   "cell_type": "code",
   "execution_count": null,
   "metadata": {},
   "outputs": [],
   "source": []
  },
  {
   "cell_type": "code",
   "execution_count": null,
   "metadata": {},
   "outputs": [],
   "source": []
  }
 ],
 "metadata": {
  "interpreter": {
   "hash": "81f571d391f91054c10517f88af1e4dd52c90d047d62f7eae0b02ba4c063c480"
  },
  "kernelspec": {
   "display_name": "Python 3.8.8 ('base')",
   "language": "python",
   "name": "python3"
  },
  "language_info": {
   "codemirror_mode": {
    "name": "ipython",
    "version": 3
   },
   "file_extension": ".py",
   "mimetype": "text/x-python",
   "name": "python",
   "nbconvert_exporter": "python",
   "pygments_lexer": "ipython3",
   "version": "3.8.8"
  }
 },
 "nbformat": 4,
 "nbformat_minor": 4
}
